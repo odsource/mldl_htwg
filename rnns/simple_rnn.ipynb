{
 "cells": [
  {
   "cell_type": "markdown",
   "metadata": {},
   "source": [
    "# Simple RNN \n",
    "\n",
    "In this notebook we consider a simple example of an RNN and used a quite artifical data generating process (if you have a better idea / story please contact me). \n",
    "\n",
    "The example has been motivated by:\n",
    "http://r2rt.com/recurrent-neural-networks-in-tensorflow-i.html. \n",
    "\n",
    "Other Resources for RNNs:\n",
    "\n",
    "* http://www.wildml.com/2015/09/recurrent-neural-networks-tutorial-part-1-introduction-to-rnns/\n",
    "* http://r2rt.com/recurrent-neural-networks-in-tensorflow-i.html\n",
    "* http://karpathy.github.io/2015/05/21/rnn-effectiveness/\n",
    "* http://colah.github.io/posts/2015-08-Understanding-LSTMs/\n",
    "* http://www.deeplearningbook.org/contents/rnn.html"
   ]
  },
  {
   "cell_type": "code",
   "execution_count": 1,
   "metadata": {},
   "outputs": [
    {
     "data": {
      "text/plain": [
       "('2.0.0',\n",
       " sys.version_info(major=3, minor=6, micro=8, releaselevel='final', serial=0))"
      ]
     },
     "execution_count": 1,
     "metadata": {},
     "output_type": "execute_result"
    }
   ],
   "source": [
    "from six.moves.cPickle import loads\n",
    "import numpy as np\n",
    "import sys\n",
    "np.random.seed(42)\n",
    "import tensorflow as tf\n",
    "tf.random.set_seed(1)\n",
    "\n",
    "import tensorflow\n",
    "import tensorflow as tf\n",
    "keras = tensorflow.keras\n",
    "%matplotlib inline\n",
    "import matplotlib.pyplot as plt\n",
    "tf.__version__, sys.version_info"
   ]
  },
  {
   "cell_type": "code",
   "execution_count": 2,
   "metadata": {},
   "outputs": [],
   "source": [
    "# Global config variables (see below)\n",
    "num_steps = 40     # number of truncated backprop steps\n",
    "batch_size = 200  # number of minibatches b\n",
    "num_classes_in = 3   # number of classes in the input\n",
    "num_classes_out = 2   # number of classes in the output\n",
    "state_size = 4    # number of classes in the state\n",
    "learning_rate = 0.1\n",
    "\n",
    "# Helper functions\n",
    "def one_hot(Y, max):\n",
    "    d = np.zeros((len(Y),max), dtype='int32')\n",
    "    for row,col in enumerate(Y):\n",
    "        d[row, col] = 1\n",
    "    return d    "
   ]
  },
  {
   "cell_type": "markdown",
   "metadata": {},
   "source": [
    "### Definition of the task\n",
    "\n",
    "We consider a network which predicts at each point in time a variable $\\hat{y}_t$ based on earlier values of $\\hat{y}_{t'}$ covariates $x_t$. "
   ]
  },
  {
   "cell_type": "markdown",
   "metadata": {},
   "source": [
    "### Example data  (I screama, you screama, we all screama for I screama)\n",
    "\n",
    "We need some data to play around with RNNs. They are capable of doing quite complicated things such as language models and so on. For this example, we want to generate the data ourself. We have to come up with a process which creates $x_t$ which itself can be influcenced by events $x_{t'}$ which happend before $t$. Further, we have to come up with $y_t$ which depends on $x_t'$ for timepoints $t' \\le t$. \n",
    "\n",
    "To keep it simple, we analyse the following quite artifical process in which the weather $x_{t'}$ for $t' \\le t$ influences our stock on icecream $y_t$. We then see if the RNN is capable of reconstructing that process.\n",
    "\n",
    "#### Definition of the simple process\n",
    "The weather $x_t$ at a certain point in time $t$ has three states (sunny, rainy, cloudy), which we model as $x_t = (1,0,0)$, $x_t = (0,1,0)$, and $x_t = (0,0,1)$ repectively. We assume that the weather is completly random (of course we could model more complex scenarios). \n",
    "\n",
    "We have an icecream store capable of holding 2 units of icecream and we start with a full store. When it is sunny we sell one unit of icecream. We have the strange policy that we order  on unit of icecream when it's cloudy. It takes 3 days to deliever the ice cream, we accept the ice cream if we do not have a full stock.\n",
    "\n",
    "This enables us to model $y_t$ the state of the store $(1,0)$ for out of stock and $(0,1)$ for in stock. We create the one-hot-encoded data in the graph later. For now we use integers but keep in mind that the data is categorical. \n",
    "\n",
    "** The important part is that, we have values $y_t$ which can be prediced from earlier** $x_t$s"
   ]
  },
  {
   "cell_type": "code",
   "execution_count": 3,
   "metadata": {},
   "outputs": [],
   "source": [
    "def gen_data(size=1000000):\n",
    "    Xs = np.array(np.random.choice(3, size=(size,))) #Random Weather\n",
    "    Y = []\n",
    "    ice = 2 #Our stock of icecream at start\n",
    "    for t,x in enumerate(Xs):\n",
    "        # (t-3) >= 0 the first ice cream could be delivered on day 3\n",
    "        # Xs[t - 3] claudy three days before today => we ordered ice cream\n",
    "        # ice < 2 not full\n",
    "        if (t - 3) >= 0 and Xs[t - 3] == 1 and ice < 2: \n",
    "            ice += 1\n",
    "        if x == 0: # It is sunny we therefore sell ice, if we have\n",
    "            if ice > 0: # We have ice cream\n",
    "                ice -= 1\n",
    "        if ice > 0: #We are not out of stock\n",
    "            Y.append(1)\n",
    "        else:\n",
    "            Y.append(0)\n",
    "    return Xs, np.array(Y)"
   ]
  },
  {
   "cell_type": "code",
   "execution_count": 9,
   "metadata": {},
   "outputs": [
    {
     "data": {
      "text/plain": [
       "(array([2, 0, 2, 2, 0, 0, 2, 1, 2, 2, 2, 2, 0, 2, 1, 0, 1, 1, 1, 1, 0, 0,\n",
       "        1, 1, 0, 0, 0, 2, 2, 2, 1, 2, 1, 1, 2, 1, 2, 2, 0, 2, 0, 2, 2, 0,\n",
       "        0, 2, 1, 0, 1, 1]),\n",
       " array([1, 1, 1, 1, 0, 0, 0, 0, 0, 0, 1, 1, 0, 0, 0, 0, 0, 1, 1, 1, 1, 1,\n",
       "        1, 1, 1, 1, 1, 1, 1, 1, 1, 1, 1, 1, 1, 1, 1, 1, 1, 1, 0, 0, 0, 0,\n",
       "        0, 0, 0, 0, 0, 1]))"
      ]
     },
     "execution_count": 9,
     "metadata": {},
     "output_type": "execute_result"
    }
   ],
   "source": [
    "X_train, Y_train = gen_data(50000) #Global variables holding the input and output\n",
    "(X_train[0:50], Y_train[0:50])"
   ]
  },
  {
   "cell_type": "markdown",
   "metadata": {},
   "source": [
    "# Forward pass in numpy\n",
    "To better illustrate the used method, we first do a forward-pass of the RNN using numpy. We load the weights which we calculated previously with the cells below."
   ]
  },
  {
   "cell_type": "code",
   "execution_count": 4,
   "metadata": {},
   "outputs": [],
   "source": [
    "W_, b_, V_, bv_ = np.load('rnn_weights_tf1.npy', allow_pickle=True)"
   ]
  },
  {
   "cell_type": "markdown",
   "metadata": {},
   "source": [
    "### Architecture of the network \n",
    "We now define the network, we do not consider the output nodes yet.\n",
    "A single RNN cell is shown in the figure below in the middle:\n",
    "\n",
    "![](http://colah.github.io/posts/2015-08-Understanding-LSTMs/img/LSTM3-SimpleRNN.png)\n",
    "Image taken from: [Colah's RNN Blog](http://colah.github.io/posts/2015-08-Understanding-LSTMs/)\n",
    "\n",
    "The joining of the two lines coming from the previous state $h_{t-1}$ and the current x-values $x_t$ is a concantination to a vector  $[h_{t-1}, x_{t}]$ of size `state_size + num_classes_in`. Alternatively, instead of concatinating, one could also use two matrices $W_x$ and $W_h$ and keep the states seperate. This is mathematically completely identical. The new state $h_t$ is then calculated as:\n",
    "\n",
    "$$\n",
    "    h_{t} = \\tanh([h_{t-1}, x_{t}] \\cdot W + b) = \\tanh(h_{t-1} \\cdot W_h + x_{t} \\cdot U + b)\n",
    "$$\n",
    "\n",
    "The dynamic of the hidden state $h_{t}$ is determined by $W$ (and $b$):"
   ]
  },
  {
   "cell_type": "code",
   "execution_count": 5,
   "metadata": {},
   "outputs": [
    {
     "name": "stdout",
     "output_type": "stream",
     "text": [
      "(7, 4)\n",
      "(4,)\n"
     ]
    },
    {
     "data": {
      "text/plain": [
       "(array([[-0.19089293,  1.2079829 ,  0.00908419, -0.9110236 ],\n",
       "        [-1.0788563 , -0.34288317,  0.7271212 ,  1.4178839 ],\n",
       "        [-0.20597383, -0.19254826,  0.7025221 , -0.54543966],\n",
       "        [ 1.0341463 ,  0.67596245, -0.93610775,  0.37894768],\n",
       "        [-0.16711316,  1.0264009 , -0.89726377, -0.42267284],\n",
       "        [ 0.20204762, -1.2146151 ,  0.02345279,  0.41776735],\n",
       "        [-1.4482121 ,  0.28976035, -1.8760067 , -1.1563133 ]],\n",
       "       dtype=float32),\n",
       " array([ 0.1347418 ,  0.28151226,  0.17300364, -0.321079  ], dtype=float32))"
      ]
     },
     "execution_count": 5,
     "metadata": {},
     "output_type": "execute_result"
    }
   ],
   "source": [
    "#Internal states\n",
    "print(W_.shape)\n",
    "print(b_.shape)\n",
    "W_, b_"
   ]
  },
  {
   "cell_type": "code",
   "execution_count": 7,
   "metadata": {},
   "outputs": [
    {
     "name": "stdout",
     "output_type": "stream",
     "text": [
      "(4, 2)\n",
      "(2,)\n"
     ]
    },
    {
     "data": {
      "text/plain": [
       "(array([[-0.18110763,  0.14144787],\n",
       "        [ 2.2433083 , -3.244251  ],\n",
       "        [-0.05769794,  0.35383844],\n",
       "        [ 0.0802527 , -0.5142712 ]], dtype=float32),\n",
       " array([-0.35922614,  0.35923496], dtype=float32))"
      ]
     },
     "execution_count": 7,
     "metadata": {},
     "output_type": "execute_result"
    }
   ],
   "source": [
    "#Connecting to the outpur\n",
    "print(V_.shape)\n",
    "print(bv_.shape)\n",
    "V_, bv_"
   ]
  },
  {
   "cell_type": "code",
   "execution_count": 10,
   "metadata": {},
   "outputs": [
    {
     "name": "stdout",
     "output_type": "stream",
     "text": [
      "[0. 0. 0. 0.] ---> [-0.0711118   0.08873004  0.70417075 -0.69960102]\n"
     ]
    }
   ],
   "source": [
    "# The first state\n",
    "h0 = np.zeros(state_size) #We start with 0 initial state\n",
    "x1 = one_hot(X_train, num_classes_in)[0] #Make a vector\n",
    "h1 = np.tanh(np.matmul(np.concatenate([x1, h0]), W_) + b_)\n",
    "print(h0, \"--->\", h1)"
   ]
  },
  {
   "cell_type": "markdown",
   "metadata": {},
   "source": [
    "We could repeat those transitions of the hidden states to get a sequence of hidden states:\n",
    "\n",
    "$h_0 \\rightarrow h_1 \\rightarrow h_2 \\rightarrow h_3 \\rightarrow h_4 \\ldots $"
   ]
  },
  {
   "cell_type": "code",
   "execution_count": 11,
   "metadata": {},
   "outputs": [],
   "source": [
    "def rnn_forward(state, X_train):\n",
    "    hs = []\n",
    "    for t in range(len(X_train)):\n",
    "        # Note that TF concatenates [Input, State]\n",
    "        state = np.tanh(np.matmul(np.concatenate([X_train[t,:],state]), W_) + b_)\n",
    "        hs.append(state)\n",
    "    return hs"
   ]
  },
  {
   "cell_type": "code",
   "execution_count": 12,
   "metadata": {},
   "outputs": [
    {
     "data": {
      "text/plain": [
       "[array([-0.0711118 ,  0.08873004,  0.70417075, -0.69960102]),\n",
       " array([ 0.76614542,  0.4418166 ,  0.90478852, -0.19104017]),\n",
       " array([ 0.80289923, -0.09371934,  0.14058029, -0.16258438]),\n",
       " array([ 0.77733682,  0.30737024,  0.47485703, -0.26912559]),\n",
       " array([ 0.82809942,  0.93229872, -0.29620752, -0.50640012])]"
      ]
     },
     "execution_count": 12,
     "metadata": {},
     "output_type": "execute_result"
    }
   ],
   "source": [
    "rnn_forward(h0, one_hot(X_train[0:5],num_classes_in))"
   ]
  },
  {
   "cell_type": "markdown",
   "metadata": {},
   "source": [
    "We add some output. For each time step the output is produced by multiplying the hidden state with:\n",
    "\n",
    "$o_t = h_t \\cdot V + b_{\\tt{v}}$\n",
    "\n",
    "This is a logit, the final the probability of output class is the softmax of the logit."
   ]
  },
  {
   "cell_type": "code",
   "execution_count": 13,
   "metadata": {},
   "outputs": [
    {
     "data": {
      "text/plain": [
       "(array([-0.24407249,  0.67026118]), array([0.28611385, 0.71388615]))"
      ]
     },
     "execution_count": 13,
     "metadata": {},
     "output_type": "execute_result"
    }
   ],
   "source": [
    "#<---- your code here (calculate the output state o1 for timestep 1 from h1, V_ and the bias bv_) ---->\n",
    "o1 = np.matmul(h1, V_) + bv_\n",
    "#<---- your code here (calculate probability from the state o1) using softmax ---->\n",
    "prob_1 = np.exp(o1)/np.sum(np.exp(o1))\n",
    "#<---- end your code here  ---->\n",
    "o1, prob_1"
   ]
  },
  {
   "cell_type": "code",
   "execution_count": 16,
   "metadata": {},
   "outputs": [],
   "source": [
    "h = rnn_forward(h0, one_hot(X_train,3))\n",
    "pt = []\n",
    "for t in range(len(h)):\n",
    "    ot = np.matmul(h[t], V_) + bv_\n",
    "    pt.append(np.exp(ot)/np.sum(np.exp(ot)))"
   ]
  },
  {
   "cell_type": "code",
   "execution_count": 17,
   "metadata": {},
   "outputs": [
    {
     "data": {
      "text/plain": [
       "([array([0.28611385, 0.71388615]),\n",
       "  array([0.72571267, 0.27428733]),\n",
       "  array([0.16161706, 0.83838294]),\n",
       "  array([0.58954736, 0.41045264]),\n",
       "  array([0.98113328, 0.01886672]),\n",
       "  array([0.98589376, 0.01410624]),\n",
       "  array([0.9805026, 0.0194974]),\n",
       "  array([0.97813046, 0.02186954]),\n",
       "  array([0.98805885, 0.01194115]),\n",
       "  array([0.96179709, 0.03820291])],\n",
       " array([1, 0, 1, 0, 0, 0, 0, 0, 0, 0, 1, 1, 0, 0, 0, 0, 0, 1, 1, 1, 1, 1,\n",
       "        1, 1, 1, 1, 1, 1, 1, 0]),\n",
       " array([1, 1, 1, 1, 0, 0, 0, 0, 0, 0, 1, 1, 0, 0, 0, 0, 0, 1, 1, 1, 1, 1,\n",
       "        1, 1, 1, 1, 1, 1, 1, 1]))"
      ]
     },
     "execution_count": 17,
     "metadata": {},
     "output_type": "execute_result"
    }
   ],
   "source": [
    "pt[0:10], np.argmax(pt[0:30],axis=1), Y_train[0:30]"
   ]
  },
  {
   "cell_type": "code",
   "execution_count": 13,
   "metadata": {},
   "outputs": [
    {
     "data": {
      "text/plain": [
       "0.98318"
      ]
     },
     "execution_count": 13,
     "metadata": {},
     "output_type": "execute_result"
    }
   ],
   "source": [
    "np.average(np.argmax(pt, axis=1) == Y_train)"
   ]
  },
  {
   "cell_type": "code",
   "execution_count": 14,
   "metadata": {},
   "outputs": [],
   "source": [
    "tot_loss = 0\n",
    "for i in range(len(Y_train)):\n",
    "    tot_loss += -np.log(pt[i][Y_train[i]])"
   ]
  },
  {
   "cell_type": "code",
   "execution_count": 15,
   "metadata": {},
   "outputs": [
    {
     "data": {
      "text/plain": [
       "0.06928991983381633"
      ]
     },
     "execution_count": 15,
     "metadata": {},
     "output_type": "execute_result"
    }
   ],
   "source": [
    "tot_loss / len(Y_train)"
   ]
  },
  {
   "cell_type": "markdown",
   "metadata": {},
   "source": [
    "# Training of the network\n",
    "## Preparation of the Minibatch\n",
    "\n",
    "In this example, we have in principle a large stream of data $x$ and $y$. For efficiency reason we split the stream in minibatches of a certain length. For this task we could also imagin to have several realizations of that icecream process, so that it would also be natural to split the process into mini batches. \n",
    "\n",
    "For simplicity, we create the minibatch by randomly cutting out `batch_size` entries of fixed length `num_steps`. Other, more advanced ways of doing so are possible. See e.g. https://danijar.com/variable-sequence-lengths-in-tensorflow/. For the time being, we thus consider the input tensor $X_{btc}$ for the minibatch to be of the following form:\n",
    "\n",
    "* $b$ having `batch_size` entries\n",
    "* $t$ loops over the unrolled timestamps (`num_steps`)\n",
    "* $c$ has the dimension of the one-hot-coded input classes "
   ]
  },
  {
   "cell_type": "code",
   "execution_count": 18,
   "metadata": {},
   "outputs": [],
   "source": [
    "def data_matrix(Xs, Ys, size = 32, num_steps = 50):\n",
    "    data_x = np.zeros([size, num_steps, 3], dtype=np.int32)\n",
    "    data_y = np.zeros([size, num_steps, 2], dtype=np.int32)\n",
    "    for i in range(1,size):\n",
    "        s = int(np.random.uniform(0, len(Xs) - num_steps))\n",
    "        data_x[i] = one_hot(Xs[s : s + num_steps],3)\n",
    "        data_y[i] = one_hot(Ys[s : s + num_steps],2)\n",
    "    return data_x, data_y"
   ]
  },
  {
   "cell_type": "code",
   "execution_count": 20,
   "metadata": {},
   "outputs": [
    {
     "data": {
      "text/plain": [
       "((10000, 40, 3), (10000, 40, 2))"
      ]
     },
     "execution_count": 20,
     "metadata": {},
     "output_type": "execute_result"
    }
   ],
   "source": [
    "X, Y = data_matrix(X_train, Y_train, size=10000, num_steps=num_steps)\n",
    "X.shape, Y.shape\n",
    "#print (X[0:2,0:5])\n",
    "#print (Y[0:2,0:5])"
   ]
  },
  {
   "cell_type": "markdown",
   "metadata": {},
   "source": [
    "## Building the model with keras\n",
    "\n",
    "**Keras assumes (batch, time, input_dimension)** as input tensor. The batch dimension needs not to be specified (side note that specifying it to `None` would not work).\n",
    "\n",
    "\n",
    "In our model we calculate the loss using all hidden timepoints. This is many-to-many situation is different for example to a sentiment classifier, where we we have a many-to-one situation. \n",
    "\n",
    "Not just the latest one (in time). Hence we set `return_sequences=True`."
   ]
  },
  {
   "cell_type": "code",
   "execution_count": 21,
   "metadata": {},
   "outputs": [
    {
     "name": "stdout",
     "output_type": "stream",
     "text": [
      "Model: \"sequential\"\n",
      "_________________________________________________________________\n",
      "Layer (type)                 Output Shape              Param #   \n",
      "=================================================================\n",
      "RNN (SimpleRNN)              (None, 40, 4)             32        \n",
      "_________________________________________________________________\n",
      "dense (Dense)                (None, 40, 2)             10        \n",
      "=================================================================\n",
      "Total params: 42\n",
      "Trainable params: 42\n",
      "Non-trainable params: 0\n",
      "_________________________________________________________________\n"
     ]
    }
   ],
   "source": [
    "model = keras.models.Sequential()\n",
    "rnn = keras.layers.SimpleRNN(state_size, input_shape=(num_steps, 3), return_sequences=True, name='RNN')\n",
    "model.add(rnn) \n",
    "#model.input_shape --> (None, 40, 3)\n",
    "#model.output_shape --> (None, 40, 4) \n",
    "\n",
    "# <-- Your code here \n",
    "# Add an output layer connecting with the hidden state of the RNN\n",
    "model.add(keras.layers.Dense(2))\n",
    "# <-- End code here \n",
    "\n",
    "#model.output_shape --> (None, 40, 2) \n",
    "model.compile(loss='binary_crossentropy', optimizer='rmsprop', metrics=['accuracy'])\n",
    "model.summary()"
   ]
  },
  {
   "cell_type": "markdown",
   "metadata": {},
   "source": [
    "For the RNN we have: \n",
    "\n",
    "Internal: (4+3)*4 + 4 = 32\n",
    "\n",
    "Output: 4*2+2 = 10"
   ]
  },
  {
   "cell_type": "code",
   "execution_count": 22,
   "metadata": {},
   "outputs": [
    {
     "name": "stdout",
     "output_type": "stream",
     "text": [
      "Train on 9500 samples, validate on 500 samples\n",
      "Epoch 1/100\n",
      "9500/9500 - 3s - loss: 2.5917 - accuracy: 0.5230 - val_loss: 1.1079 - val_accuracy: 0.5245\n",
      "Epoch 2/100\n",
      "9500/9500 - 2s - loss: 0.7833 - accuracy: 0.5847 - val_loss: 0.6841 - val_accuracy: 0.6854\n",
      "Epoch 3/100\n",
      "9500/9500 - 2s - loss: 0.6006 - accuracy: 0.7085 - val_loss: 0.5381 - val_accuracy: 0.7566\n",
      "Epoch 4/100\n",
      "9500/9500 - 2s - loss: 0.4676 - accuracy: 0.7864 - val_loss: 0.4283 - val_accuracy: 0.8049\n",
      "Epoch 5/100\n",
      "9500/9500 - 2s - loss: 0.4025 - accuracy: 0.8171 - val_loss: 0.3822 - val_accuracy: 0.8282\n",
      "Epoch 6/100\n",
      "9500/9500 - 2s - loss: 0.3594 - accuracy: 0.8405 - val_loss: 0.3417 - val_accuracy: 0.8519\n",
      "Epoch 7/100\n",
      "9500/9500 - 2s - loss: 0.3025 - accuracy: 0.8724 - val_loss: 0.2947 - val_accuracy: 0.8859\n",
      "Epoch 8/100\n",
      "9500/9500 - 2s - loss: 0.2623 - accuracy: 0.9058 - val_loss: 0.2679 - val_accuracy: 0.9075\n",
      "Epoch 9/100\n",
      "9500/9500 - 2s - loss: 0.2513 - accuracy: 0.9148 - val_loss: 0.2729 - val_accuracy: 0.9104\n",
      "Epoch 10/100\n",
      "9500/9500 - 2s - loss: 0.2548 - accuracy: 0.9199 - val_loss: 0.2711 - val_accuracy: 0.9119\n",
      "Epoch 11/100\n",
      "9500/9500 - 2s - loss: 0.2513 - accuracy: 0.9233 - val_loss: 0.2646 - val_accuracy: 0.9210\n",
      "Epoch 12/100\n",
      "9500/9500 - 2s - loss: 0.2425 - accuracy: 0.9255 - val_loss: 0.2539 - val_accuracy: 0.9222\n",
      "Epoch 13/100\n",
      "9500/9500 - 2s - loss: 0.2335 - accuracy: 0.9288 - val_loss: 0.2466 - val_accuracy: 0.9265\n",
      "Epoch 14/100\n",
      "9500/9500 - 2s - loss: 0.2276 - accuracy: 0.9317 - val_loss: 0.2411 - val_accuracy: 0.9280\n",
      "Epoch 15/100\n",
      "9500/9500 - 2s - loss: 0.2240 - accuracy: 0.9351 - val_loss: 0.2400 - val_accuracy: 0.9352\n",
      "Epoch 16/100\n",
      "9500/9500 - 2s - loss: 0.2208 - accuracy: 0.9388 - val_loss: 0.2361 - val_accuracy: 0.9390\n",
      "Epoch 17/100\n",
      "9500/9500 - 2s - loss: 0.2176 - accuracy: 0.9415 - val_loss: 0.2341 - val_accuracy: 0.9360\n",
      "Epoch 18/100\n",
      "9500/9500 - 2s - loss: 0.2155 - accuracy: 0.9427 - val_loss: 0.2295 - val_accuracy: 0.9424\n",
      "Epoch 19/100\n",
      "9500/9500 - 2s - loss: 0.2126 - accuracy: 0.9442 - val_loss: 0.2275 - val_accuracy: 0.9435\n",
      "Epoch 20/100\n",
      "9500/9500 - 2s - loss: 0.2110 - accuracy: 0.9449 - val_loss: 0.2237 - val_accuracy: 0.9426\n",
      "Epoch 21/100\n",
      "9500/9500 - 2s - loss: 0.2086 - accuracy: 0.9460 - val_loss: 0.2216 - val_accuracy: 0.9460\n",
      "Epoch 22/100\n",
      "9500/9500 - 2s - loss: 0.2068 - accuracy: 0.9469 - val_loss: 0.2279 - val_accuracy: 0.9374\n",
      "Epoch 23/100\n",
      "9500/9500 - 2s - loss: 0.2049 - accuracy: 0.9473 - val_loss: 0.2184 - val_accuracy: 0.9477\n",
      "Epoch 24/100\n",
      "9500/9500 - 2s - loss: 0.2039 - accuracy: 0.9480 - val_loss: 0.2207 - val_accuracy: 0.9428\n",
      "Epoch 25/100\n",
      "9500/9500 - 2s - loss: 0.2026 - accuracy: 0.9478 - val_loss: 0.2161 - val_accuracy: 0.9456\n",
      "Epoch 26/100\n",
      "9500/9500 - 2s - loss: 0.2023 - accuracy: 0.9470 - val_loss: 0.2156 - val_accuracy: 0.9472\n",
      "Epoch 27/100\n",
      "9500/9500 - 2s - loss: 0.2011 - accuracy: 0.9472 - val_loss: 0.2125 - val_accuracy: 0.9488\n",
      "Epoch 28/100\n",
      "9500/9500 - 2s - loss: 0.1999 - accuracy: 0.9481 - val_loss: 0.2149 - val_accuracy: 0.9462\n",
      "Epoch 29/100\n",
      "9500/9500 - 2s - loss: 0.1994 - accuracy: 0.9482 - val_loss: 0.2124 - val_accuracy: 0.9477\n",
      "Epoch 30/100\n",
      "9500/9500 - 2s - loss: 0.1995 - accuracy: 0.9485 - val_loss: 0.2114 - val_accuracy: 0.9485\n",
      "Epoch 31/100\n",
      "9500/9500 - 2s - loss: 0.1987 - accuracy: 0.9484 - val_loss: 0.2130 - val_accuracy: 0.9459\n",
      "Epoch 32/100\n",
      "9500/9500 - 2s - loss: 0.1984 - accuracy: 0.9488 - val_loss: 0.2084 - val_accuracy: 0.9485\n",
      "Epoch 33/100\n",
      "9500/9500 - 2s - loss: 0.1966 - accuracy: 0.9492 - val_loss: 0.2088 - val_accuracy: 0.9485\n",
      "Epoch 34/100\n",
      "9500/9500 - 2s - loss: 0.1968 - accuracy: 0.9494 - val_loss: 0.2063 - val_accuracy: 0.9485\n",
      "Epoch 35/100\n",
      "9500/9500 - 2s - loss: 0.1953 - accuracy: 0.9496 - val_loss: 0.2067 - val_accuracy: 0.9503\n",
      "Epoch 36/100\n",
      "9500/9500 - 2s - loss: 0.1953 - accuracy: 0.9493 - val_loss: 0.2049 - val_accuracy: 0.9500\n",
      "Epoch 37/100\n",
      "9500/9500 - 2s - loss: 0.1940 - accuracy: 0.9501 - val_loss: 0.2054 - val_accuracy: 0.9488\n",
      "Epoch 38/100\n",
      "9500/9500 - 2s - loss: 0.1946 - accuracy: 0.9500 - val_loss: 0.2058 - val_accuracy: 0.9477\n",
      "Epoch 39/100\n",
      "9500/9500 - 2s - loss: 0.1942 - accuracy: 0.9498 - val_loss: 0.2079 - val_accuracy: 0.9480\n",
      "Epoch 40/100\n",
      "9500/9500 - 2s - loss: 0.1982 - accuracy: 0.9475 - val_loss: 0.2102 - val_accuracy: 0.9465\n",
      "Epoch 41/100\n",
      "9500/9500 - 2s - loss: 0.1935 - accuracy: 0.9501 - val_loss: 0.2062 - val_accuracy: 0.9469\n",
      "Epoch 42/100\n",
      "9500/9500 - 2s - loss: 0.1963 - accuracy: 0.9491 - val_loss: 0.2058 - val_accuracy: 0.9481\n",
      "Epoch 43/100\n",
      "9500/9500 - 2s - loss: 0.1938 - accuracy: 0.9503 - val_loss: 0.2036 - val_accuracy: 0.9487\n",
      "Epoch 44/100\n",
      "9500/9500 - 2s - loss: 0.1935 - accuracy: 0.9500 - val_loss: 0.2124 - val_accuracy: 0.9445\n",
      "Epoch 45/100\n",
      "9500/9500 - 2s - loss: 0.1934 - accuracy: 0.9500 - val_loss: 0.2027 - val_accuracy: 0.9490\n",
      "Epoch 46/100\n",
      "9500/9500 - 2s - loss: 0.1922 - accuracy: 0.9500 - val_loss: 0.2057 - val_accuracy: 0.9477\n",
      "Epoch 47/100\n",
      "9500/9500 - 2s - loss: 0.1924 - accuracy: 0.9500 - val_loss: 0.2023 - val_accuracy: 0.9491\n",
      "Epoch 48/100\n",
      "9500/9500 - 2s - loss: 0.1914 - accuracy: 0.9503 - val_loss: 0.2045 - val_accuracy: 0.9478\n",
      "Epoch 49/100\n",
      "9500/9500 - 2s - loss: 0.1926 - accuracy: 0.9502 - val_loss: 0.2022 - val_accuracy: 0.9482\n",
      "Epoch 50/100\n",
      "9500/9500 - 2s - loss: 0.1915 - accuracy: 0.9504 - val_loss: 0.2147 - val_accuracy: 0.9423\n",
      "Epoch 51/100\n",
      "9500/9500 - 2s - loss: 0.1911 - accuracy: 0.9506 - val_loss: 0.2025 - val_accuracy: 0.9493\n",
      "Epoch 52/100\n",
      "9500/9500 - 2s - loss: 0.1914 - accuracy: 0.9504 - val_loss: 0.2014 - val_accuracy: 0.9492\n",
      "Epoch 53/100\n",
      "9500/9500 - 2s - loss: 0.1913 - accuracy: 0.9503 - val_loss: 0.2025 - val_accuracy: 0.9484\n",
      "Epoch 54/100\n",
      "9500/9500 - 2s - loss: 0.1907 - accuracy: 0.9502 - val_loss: 0.2060 - val_accuracy: 0.9467\n",
      "Epoch 55/100\n",
      "9500/9500 - 2s - loss: 0.1912 - accuracy: 0.9503 - val_loss: 0.2039 - val_accuracy: 0.9481\n",
      "Epoch 56/100\n",
      "9500/9500 - 2s - loss: 0.1909 - accuracy: 0.9505 - val_loss: 0.2017 - val_accuracy: 0.9495\n",
      "Epoch 57/100\n",
      "9500/9500 - 2s - loss: 0.1912 - accuracy: 0.9500 - val_loss: 0.2020 - val_accuracy: 0.9490\n",
      "Epoch 58/100\n",
      "9500/9500 - 2s - loss: 0.1909 - accuracy: 0.9500 - val_loss: 0.2026 - val_accuracy: 0.9477\n",
      "Epoch 59/100\n",
      "9500/9500 - 2s - loss: 0.1907 - accuracy: 0.9500 - val_loss: 0.2013 - val_accuracy: 0.9488\n",
      "Epoch 60/100\n",
      "9500/9500 - 2s - loss: 0.1905 - accuracy: 0.9503 - val_loss: 0.2090 - val_accuracy: 0.9451\n",
      "Epoch 61/100\n",
      "9500/9500 - 2s - loss: 0.1906 - accuracy: 0.9506 - val_loss: 0.2073 - val_accuracy: 0.9454\n",
      "Epoch 62/100\n",
      "9500/9500 - 2s - loss: 0.1901 - accuracy: 0.9504 - val_loss: 0.2089 - val_accuracy: 0.9458\n",
      "Epoch 63/100\n",
      "9500/9500 - 2s - loss: 0.1908 - accuracy: 0.9500 - val_loss: 0.2019 - val_accuracy: 0.9481\n",
      "Epoch 64/100\n",
      "9500/9500 - 2s - loss: 0.1900 - accuracy: 0.9501 - val_loss: 0.2006 - val_accuracy: 0.9481\n",
      "Epoch 65/100\n",
      "9500/9500 - 2s - loss: 0.1899 - accuracy: 0.9500 - val_loss: 0.2012 - val_accuracy: 0.9495\n",
      "Epoch 66/100\n",
      "9500/9500 - 2s - loss: 0.1899 - accuracy: 0.9505 - val_loss: 0.2005 - val_accuracy: 0.9489\n",
      "Epoch 67/100\n",
      "9500/9500 - 2s - loss: 0.1898 - accuracy: 0.9503 - val_loss: 0.2015 - val_accuracy: 0.9482\n",
      "Epoch 68/100\n",
      "9500/9500 - 2s - loss: 0.1894 - accuracy: 0.9503 - val_loss: 0.2002 - val_accuracy: 0.9488\n",
      "Epoch 69/100\n",
      "9500/9500 - 2s - loss: 0.1898 - accuracy: 0.9503 - val_loss: 0.2006 - val_accuracy: 0.9489\n",
      "Epoch 70/100\n",
      "9500/9500 - 2s - loss: 0.1899 - accuracy: 0.9501 - val_loss: 0.1994 - val_accuracy: 0.9485\n",
      "Epoch 71/100\n",
      "9500/9500 - 2s - loss: 0.1895 - accuracy: 0.9501 - val_loss: 0.2048 - val_accuracy: 0.9469\n",
      "Epoch 72/100\n",
      "9500/9500 - 2s - loss: 0.1892 - accuracy: 0.9499 - val_loss: 0.2000 - val_accuracy: 0.9491\n",
      "Epoch 73/100\n",
      "9500/9500 - 2s - loss: 0.1891 - accuracy: 0.9501 - val_loss: 0.2028 - val_accuracy: 0.9470\n",
      "Epoch 74/100\n",
      "9500/9500 - 2s - loss: 0.1889 - accuracy: 0.9503 - val_loss: 0.1999 - val_accuracy: 0.9482\n",
      "Epoch 75/100\n",
      "9500/9500 - 2s - loss: 0.1895 - accuracy: 0.9501 - val_loss: 0.2005 - val_accuracy: 0.9481\n",
      "Epoch 76/100\n",
      "9500/9500 - 2s - loss: 0.1890 - accuracy: 0.9500 - val_loss: 0.2006 - val_accuracy: 0.9482\n",
      "Epoch 77/100\n",
      "9500/9500 - 2s - loss: 0.1888 - accuracy: 0.9498 - val_loss: 0.2021 - val_accuracy: 0.9473\n",
      "Epoch 78/100\n",
      "9500/9500 - 2s - loss: 0.1889 - accuracy: 0.9501 - val_loss: 0.1982 - val_accuracy: 0.9484\n",
      "Epoch 79/100\n",
      "9500/9500 - 2s - loss: 0.1884 - accuracy: 0.9501 - val_loss: 0.1991 - val_accuracy: 0.9490\n"
     ]
    },
    {
     "name": "stdout",
     "output_type": "stream",
     "text": [
      "Epoch 80/100\n",
      "9500/9500 - 2s - loss: 0.1882 - accuracy: 0.9499 - val_loss: 0.2019 - val_accuracy: 0.9474\n",
      "Epoch 81/100\n",
      "9500/9500 - 2s - loss: 0.1885 - accuracy: 0.9498 - val_loss: 0.2007 - val_accuracy: 0.9477\n",
      "Epoch 82/100\n",
      "9500/9500 - 2s - loss: 0.1886 - accuracy: 0.9500 - val_loss: 0.2004 - val_accuracy: 0.9484\n",
      "Epoch 83/100\n",
      "9500/9500 - 2s - loss: 0.1874 - accuracy: 0.9500 - val_loss: 0.2004 - val_accuracy: 0.9475\n",
      "Epoch 84/100\n",
      "9500/9500 - 2s - loss: 0.1889 - accuracy: 0.9494 - val_loss: 0.2035 - val_accuracy: 0.9467\n",
      "Epoch 85/100\n",
      "9500/9500 - 2s - loss: 0.1881 - accuracy: 0.9498 - val_loss: 0.2002 - val_accuracy: 0.9479\n",
      "Epoch 86/100\n",
      "9500/9500 - 2s - loss: 0.1880 - accuracy: 0.9499 - val_loss: 0.2015 - val_accuracy: 0.9463\n",
      "Epoch 87/100\n",
      "9500/9500 - 2s - loss: 0.1876 - accuracy: 0.9497 - val_loss: 0.2000 - val_accuracy: 0.9487\n",
      "Epoch 88/100\n",
      "9500/9500 - 2s - loss: 0.1878 - accuracy: 0.9499 - val_loss: 0.1993 - val_accuracy: 0.9481\n",
      "Epoch 89/100\n",
      "9500/9500 - 2s - loss: 0.1873 - accuracy: 0.9497 - val_loss: 0.1995 - val_accuracy: 0.9478\n",
      "Epoch 90/100\n",
      "9500/9500 - 2s - loss: 0.1869 - accuracy: 0.9498 - val_loss: 0.1975 - val_accuracy: 0.9476\n",
      "Epoch 91/100\n",
      "9500/9500 - 2s - loss: 0.1887 - accuracy: 0.9486 - val_loss: 0.1990 - val_accuracy: 0.9480\n",
      "Epoch 92/100\n",
      "9500/9500 - 2s - loss: 0.1874 - accuracy: 0.9495 - val_loss: 0.2022 - val_accuracy: 0.9452\n",
      "Epoch 93/100\n",
      "9500/9500 - 2s - loss: 0.1874 - accuracy: 0.9494 - val_loss: 0.2043 - val_accuracy: 0.9440\n",
      "Epoch 94/100\n",
      "9500/9500 - 2s - loss: 0.1870 - accuracy: 0.9495 - val_loss: 0.1978 - val_accuracy: 0.9484\n",
      "Epoch 95/100\n",
      "9500/9500 - 2s - loss: 0.1868 - accuracy: 0.9497 - val_loss: 0.2016 - val_accuracy: 0.9457\n",
      "Epoch 96/100\n",
      "9500/9500 - 2s - loss: 0.1867 - accuracy: 0.9496 - val_loss: 0.1981 - val_accuracy: 0.9468\n",
      "Epoch 97/100\n",
      "9500/9500 - 2s - loss: 0.1860 - accuracy: 0.9496 - val_loss: 0.1998 - val_accuracy: 0.9459\n",
      "Epoch 98/100\n",
      "9500/9500 - 2s - loss: 0.1866 - accuracy: 0.9497 - val_loss: 0.1969 - val_accuracy: 0.9482\n",
      "Epoch 99/100\n",
      "9500/9500 - 2s - loss: 0.1867 - accuracy: 0.9496 - val_loss: 0.2001 - val_accuracy: 0.9479\n",
      "Epoch 100/100\n",
      "9500/9500 - 2s - loss: 0.1863 - accuracy: 0.9497 - val_loss: 0.1975 - val_accuracy: 0.9472\n"
     ]
    }
   ],
   "source": [
    "history = model.fit(X, Y, epochs=100, verbose=2, validation_split=0.05)"
   ]
  },
  {
   "cell_type": "code",
   "execution_count": 23,
   "metadata": {},
   "outputs": [
    {
     "data": {
      "text/plain": [
       "<matplotlib.legend.Legend at 0x7f74d6606e48>"
      ]
     },
     "execution_count": 23,
     "metadata": {},
     "output_type": "execute_result"
    },
    {
     "data": {
      "image/png": "[encoded data removed]",
      "text/plain": [
       "<Figure size 864x288 with 2 Axes>"
      ]
     },
     "metadata": {
      "needs_background": "light"
     },
     "output_type": "display_data"
    }
   ],
   "source": [
    "# plot the development of the accuracy and loss during training\n",
    "plt.figure(figsize=(12,4))\n",
    "plt.subplot(1,2,(1))\n",
    "plt.plot(history.history['accuracy'],linestyle='-.')\n",
    "plt.plot(history.history['val_accuracy'])\n",
    "plt.title('model accuracy')\n",
    "plt.ylabel('accuracy')\n",
    "plt.xlabel('epoch')\n",
    "plt.legend(['train', 'valid'], loc='lower right')\n",
    "plt.subplot(1,2,(2))\n",
    "plt.plot(history.history['loss'],linestyle='-.')\n",
    "plt.plot(history.history['val_loss'])\n",
    "plt.title('model loss')\n",
    "plt.ylabel('loss')\n",
    "plt.xlabel('epoch')\n",
    "plt.legend(['train', 'valid'], loc='upper right')"
   ]
  },
  {
   "cell_type": "code",
   "execution_count": 22,
   "metadata": {},
   "outputs": [
    {
     "data": {
      "text/plain": [
       "[0.1899680873155594, 0.9499875]"
      ]
     },
     "execution_count": 22,
     "metadata": {},
     "output_type": "execute_result"
    }
   ],
   "source": [
    "# We use the training, since we did use only a random subset of the data\n",
    "X, Y = data_matrix(X_train, Y_train, size=1000, num_steps=num_steps)\n",
    "model.evaluate(X,Y, verbose=0)"
   ]
  },
  {
   "cell_type": "code",
   "execution_count": 23,
   "metadata": {},
   "outputs": [
    {
     "data": {
      "text/plain": [
       "[array([[-0.21605968, -0.02948334,  0.13601376, -1.2223743 ],\n",
       "        [ 0.10594247,  1.8724391 ,  0.23321001,  0.2734687 ],\n",
       "        [ 0.16046026, -0.04228318,  0.12141945,  0.24082775]],\n",
       "       dtype=float32),\n",
       " array([[ 0.7338864 , -0.0139803 , -0.07297333,  1.531527  ],\n",
       "        [ 0.19304346,  0.0433125 , -1.7489346 ,  0.02920447],\n",
       "        [-2.6149638 ,  0.02548098, -0.17421581, -0.21342318],\n",
       "        [ 0.10220984, -0.00775155, -0.03905404,  1.0599148 ]],\n",
       "       dtype=float32),\n",
       " array([ 0.1745347 , -0.187638  , -0.39152995, -0.49653885], dtype=float32)]"
      ]
     },
     "execution_count": 23,
     "metadata": {},
     "output_type": "execute_result"
    }
   ],
   "source": [
    "rnn.get_weights()"
   ]
  },
  {
   "cell_type": "markdown",
   "metadata": {},
   "source": [
    "## Stacking"
   ]
  },
  {
   "cell_type": "code",
   "execution_count": 26,
   "metadata": {},
   "outputs": [
    {
     "name": "stdout",
     "output_type": "stream",
     "text": [
      "Model: \"sequential_2\"\n",
      "_________________________________________________________________\n",
      "Layer (type)                 Output Shape              Param #   \n",
      "=================================================================\n",
      "gru_1 (GRU)                  (None, 40, 4)             108       \n",
      "_________________________________________________________________\n",
      "lstm_1 (LSTM)                (None, 40, 4)             144       \n",
      "_________________________________________________________________\n",
      "dense_2 (Dense)              (None, 40, 2)             10        \n",
      "=================================================================\n",
      "Total params: 262\n",
      "Trainable params: 262\n",
      "Non-trainable params: 0\n",
      "_________________________________________________________________\n"
     ]
    }
   ],
   "source": [
    "model = keras.models.Sequential()\n",
    "model.add(keras.layers.GRU(state_size, return_sequences=True, input_shape=(num_steps, 3)))\n",
    "rnn = keras.layers.LSTM(state_size, return_sequences=True) #Need to be true\n",
    "model.add(rnn) \n",
    "\n",
    "#model.input_shape --> (None, 40, 3)\n",
    "#model.output_shape --> (None, 40, 4) \n",
    "\n",
    "\n",
    "model.add(keras.layers.Dense(2))\n",
    "model.compile(loss='binary_crossentropy', optimizer='rmsprop', metrics=['accuracy'])\n",
    "model.summary()"
   ]
  },
  {
   "cell_type": "code",
   "execution_count": null,
   "metadata": {},
   "outputs": [],
   "source": []
  },
  {
   "cell_type": "code",
   "execution_count": null,
   "metadata": {},
   "outputs": [],
   "source": []
  },
  {
   "cell_type": "code",
   "execution_count": null,
   "metadata": {},
   "outputs": [],
   "source": []
  },
  {
   "cell_type": "code",
   "execution_count": null,
   "metadata": {},
   "outputs": [],
   "source": []
  },
  {
   "cell_type": "code",
   "execution_count": null,
   "metadata": {},
   "outputs": [],
   "source": []
  },
  {
   "cell_type": "code",
   "execution_count": null,
   "metadata": {},
   "outputs": [],
   "source": []
  },
  {
   "cell_type": "code",
   "execution_count": null,
   "metadata": {},
   "outputs": [],
   "source": []
  },
  {
   "cell_type": "code",
   "execution_count": null,
   "metadata": {},
   "outputs": [],
   "source": []
  },
  {
   "cell_type": "code",
   "execution_count": null,
   "metadata": {},
   "outputs": [],
   "source": []
  },
  {
   "cell_type": "code",
   "execution_count": null,
   "metadata": {},
   "outputs": [],
   "source": []
  },
  {
   "cell_type": "code",
   "execution_count": null,
   "metadata": {},
   "outputs": [],
   "source": []
  },
  {
   "cell_type": "code",
   "execution_count": null,
   "metadata": {},
   "outputs": [],
   "source": []
  },
  {
   "cell_type": "code",
   "execution_count": null,
   "metadata": {},
   "outputs": [],
   "source": []
  },
  {
   "cell_type": "code",
   "execution_count": null,
   "metadata": {},
   "outputs": [],
   "source": []
  }
 ],
 "metadata": {
  "kernelspec": {
   "display_name": "Python 3",
   "language": "python",
   "name": "python3"
  },
  "language_info": {
   "codemirror_mode": {
    "name": "ipython",
    "version": 3
   },
   "file_extension": ".py",
   "mimetype": "text/x-python",
   "name": "python",
   "nbconvert_exporter": "python",
   "pygments_lexer": "ipython3",
   "version": "3.6.8"
  }
 },
 "nbformat": 4,
 "nbformat_minor": 1
}
