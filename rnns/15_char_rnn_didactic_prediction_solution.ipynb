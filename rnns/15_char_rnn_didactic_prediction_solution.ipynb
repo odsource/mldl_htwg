{
 "cells": [
  {
   "cell_type": "markdown",
   "metadata": {},
   "source": [
    "## Char-RNN (prediction)\n",
    "\n",
    "This notebook describes the use of a char-RNN.\n",
    "\n",
    "The notebook has been apoted from: https://github.com/mineshmathew/char_rnn_karpathy_keras/blob/master/char_rnn_of_karpathy_keras.py\n",
    "\n",
    "The training is described in [15_char_rnn_didactic_no_state_training.ipynb](https://github.com/tensorchiefs/dl_course/blob/master/notebooks/15_char_rnn_didactic_no_state_training.ipynb)."
   ]
  },
  {
   "cell_type": "code",
   "execution_count": 1,
   "metadata": {},
   "outputs": [],
   "source": [
    "from __future__ import print_function\n",
    "from tensorflow.keras.models import Sequential\n",
    "from tensorflow.keras.layers import Dense, Activation, Dropout\n",
    "from tensorflow.keras.layers import LSTM,SimpleRNN\n",
    "from tensorflow.keras.layers import TimeDistributed\n",
    "#from tensorflow.keras.utils.data_utils import get_file\n",
    "import numpy as np\n",
    "from time import sleep\n",
    "import tensorflow as tf\n",
    "import random\n",
    "import sys\n",
    "import pickle"
   ]
  },
  {
   "cell_type": "code",
   "execution_count": 2,
   "metadata": {},
   "outputs": [],
   "source": [
    "char_indices, indices_char = pickle.load( open( \"15_chars.p\", \"rb\" ) )"
   ]
  },
  {
   "cell_type": "code",
   "execution_count": 3,
   "metadata": {},
   "outputs": [
    {
     "data": {
      "text/plain": [
       "106"
      ]
     },
     "execution_count": 3,
     "metadata": {},
     "output_type": "execute_result"
    }
   ],
   "source": [
    "len(char_indices)"
   ]
  },
  {
   "cell_type": "code",
   "execution_count": 4,
   "metadata": {},
   "outputs": [
    {
     "name": "stdout",
     "output_type": "stream",
     "text": [
      "-rw-r--r-- 1 root root 27M Dec 17 21:19 Didactic_no_state\r\n"
     ]
    }
   ],
   "source": [
    "# Loading the model\n",
    "import urllib\n",
    "import os\n",
    "if not os.path.isfile('Didactic_no_state'):\n",
    "    urllib.request.urlretrieve(\"https://www.dropbox.com/s/ibs345wdjtxuy1t/Didactic_no_state?dl=1\",\"Didactic_no_state\")\n",
    "%ls -hl Didactic_no_state"
   ]
  },
  {
   "cell_type": "code",
   "execution_count": 5,
   "metadata": {},
   "outputs": [
    {
     "name": "stdout",
     "output_type": "stream",
     "text": [
      "WARNING:tensorflow:Error in loading the saved optimizer state. As a result, your model is starting with a freshly initialized optimizer.\n",
      "Model: \"sequential\"\n",
      "_________________________________________________________________\n",
      "Layer (type)                 Output Shape              Param #   \n",
      "=================================================================\n",
      "lstm_1 (LSTM)                (None, 40, 512)           1267712   \n",
      "_________________________________________________________________\n",
      "lstm_2 (LSTM)                (None, 40, 512)           2099200   \n",
      "_________________________________________________________________\n",
      "dropout_1 (Dropout)          (None, 40, 512)           0         \n",
      "_________________________________________________________________\n",
      "time_distributed_1 (TimeDist (None, 40, 106)           54378     \n",
      "_________________________________________________________________\n",
      "time_distributed_2 (TimeDist (None, 40, 106)           0         \n",
      "=================================================================\n",
      "Total params: 3,421,290\n",
      "Trainable params: 3,421,290\n",
      "Non-trainable params: 0\n",
      "_________________________________________________________________\n"
     ]
    }
   ],
   "source": [
    "model = tf.keras.models.load_model('Didactic_no_state')\n",
    "model.summary()"
   ]
  },
  {
   "cell_type": "code",
   "execution_count": 6,
   "metadata": {},
   "outputs": [],
   "source": [
    "def get_coded_sequence(sentence):\n",
    "    maxlen = 40\n",
    "    x = np.zeros((1, maxlen, len(char_indices))) #One hot encoding\n",
    "    for t, char in enumerate(sentence):  \n",
    "        x[0, t, char_indices[char]] = 1.\n",
    "    return x"
   ]
  },
  {
   "cell_type": "code",
   "execution_count": 7,
   "metadata": {},
   "outputs": [
    {
     "data": {
      "text/plain": [
       "(1, 40, 106)"
      ]
     },
     "execution_count": 7,
     "metadata": {},
     "output_type": "execute_result"
    }
   ],
   "source": [
    "sentence = 'Zur Didaktik des integrativen Unterricht'\n",
    "get_coded_sequence(sentence).shape #(1, 40, 106) batch, time_steps, characters"
   ]
  },
  {
   "cell_type": "code",
   "execution_count": 8,
   "metadata": {},
   "outputs": [
    {
     "name": "stdout",
     "output_type": "stream",
     "text": [
      "\n"
     ]
    }
   ],
   "source": [
    "def temp_scaling(probs, temperature=0.5):\n",
    "    logit = np.log(probs) \n",
    "    s = np.exp(logit / temperature)\n",
    "    return s/np.sum(s)\n",
    "\n",
    "def _sample(probs, temperature):\n",
    "    # helper function to sample an index from a probability array\n",
    "    p = temp_scaling(probs)\n",
    "    #1.001 to be on the save side, sum(p) < 1 for np.random.multinomial\n",
    "    p /= (1.001 * np.sum(p))\n",
    "    return np.argmax(np.random.multinomial(1, p, 1))\n",
    "\n",
    "def print_sample(sentence = 'Zur Didaktik des integrativen Unterricht', num=100, temp=0.5):\n",
    "    \"\"\"\n",
    "        sentence : should be 40 characters long\n",
    "    \"\"\"\n",
    "    generated = ''\n",
    "    start_index = 0\n",
    "    generated += sentence\n",
    "    print('----- Generating with seed: \"' + sentence + '\"')\n",
    "    sys.stdout.write(generated)\n",
    "\n",
    "    for i in range(num):\n",
    "        x = get_coded_sequence(sentence)\n",
    "        probs = (model.predict_proba(x, verbose=0))[0,-1,:] #Probabilities for next charcter\n",
    "        #print(preds)\n",
    "        next_index = _sample(probs, temp) \n",
    "        next_char = indices_char[next_index] #next character\n",
    "\n",
    "        generated += next_char\n",
    "        sentence = sentence[1:] + next_char\n",
    "\n",
    "        #print(next_index)\n",
    "        sys.stdout.write(next_char)\n",
    "        sys.stdout.flush()\n",
    "\n",
    "print()"
   ]
  },
  {
   "cell_type": "code",
   "execution_count": 9,
   "metadata": {},
   "outputs": [
    {
     "name": "stdout",
     "output_type": "stream",
     "text": [
      "----- Generating with seed: \"Zur Didaktik des integrativen Unterricht\"\n",
      "Zur Didaktik des integrativen Unterrichts\n",
      "„Und ich probiere immer auch herum auf eine gemeins"
     ]
    },
    {
     "name": "stderr",
     "output_type": "stream",
     "text": [
      "/usr/local/lib/python3.6/dist-packages/ipykernel_launcher.py:2: RuntimeWarning: divide by zero encountered in log\n",
      "  \n"
     ]
    },
    {
     "name": "stdout",
     "output_type": "stream",
     "text": [
      "ame Struktur geschaffen werden kann, ihre Unterrichtserfolge in der Formulierung einer Theorie des Unterrichts. Diese beginnt damit, dass sie sich "
     ]
    }
   ],
   "source": [
    "print_sample(num = 200)"
   ]
  },
  {
   "cell_type": "markdown",
   "metadata": {},
   "source": [
    "#### Some samples \n",
    "\n",
    "We started with \"Zur Didaktik des integrativen Unterricht\" and temp=1/2\n",
    "\n",
    "```\n",
    "Zur Didaktik des integrativen Unterrichts\n",
    "„Das bedeutet auch die Begriffe Heterogenität und deine Vorstellung der Didaktik im integrativen Unter\n",
    "\n",
    "Zur Didaktik des integrativen Unterrichts\n",
    "Frontalunterricht miteinander oder wir haben auch Kreisgespräche innerhalb einer Unterrichtseinheit eingesetzt werden\n",
    "\n",
    "Zur Didaktik des integrativen Unterrichts\n",
    "Die Sachbegegnung soll dabei nicht nur auf Hören und Sehen beschränkt werden, „sondern in der Motorik, im handelnden Unterrichtsstil gefunden hat, der in optivieren der Ergebnisse bewusst ist.\n",
    "\n",
    "```"
   ]
  },
  {
   "cell_type": "markdown",
   "metadata": {},
   "source": [
    "### The Effect of Temperatur Scaling"
   ]
  },
  {
   "cell_type": "code",
   "execution_count": 10,
   "metadata": {},
   "outputs": [
    {
     "name": "stderr",
     "output_type": "stream",
     "text": [
      "/usr/local/lib/python3.6/dist-packages/ipykernel_launcher.py:9: UserWarning: In Matplotlib 3.3 individual lines on a stem plot will be added as a LineCollection instead of individual lines. This significantly improves the performance of a stem plot. To remove this warning and switch to the new behaviour, set the \"use_line_collection\" keyword argument to True.\n",
      "  if __name__ == '__main__':\n"
     ]
    },
    {
     "data": {
      "image/png": "[encoded data removed]",
      "text/plain": [
       "<Figure size 432x288 with 1 Axes>"
      ]
     },
     "metadata": {
      "needs_background": "light"
     },
     "output_type": "display_data"
    },
    {
     "data": {
      "text/plain": [
       "array([0.1, 0.4, 0.3, 0.2])"
      ]
     },
     "execution_count": 10,
     "metadata": {},
     "output_type": "execute_result"
    }
   ],
   "source": [
    "import numpy as np; np.random.seed(1)\n",
    "import matplotlib.pyplot as plt\n",
    "import seaborn as sns\n",
    "%matplotlib inline\n",
    "\n",
    "T = 1 #Change to see effect\n",
    "p = np.array((0.1,0.4,0.3,0.2))\n",
    "\n",
    "plt.stem((1,2,3,4),temp_scaling(p,T))\n",
    "plt.title('Temp: {}'.format(T))\n",
    "plt.show()\n",
    "temp_scaling(p,T)"
   ]
  },
  {
   "cell_type": "code",
   "execution_count": null,
   "metadata": {},
   "outputs": [],
   "source": []
  },
  {
   "cell_type": "code",
   "execution_count": null,
   "metadata": {},
   "outputs": [],
   "source": []
  },
  {
   "cell_type": "code",
   "execution_count": null,
   "metadata": {},
   "outputs": [],
   "source": []
  },
  {
   "cell_type": "code",
   "execution_count": null,
   "metadata": {},
   "outputs": [],
   "source": []
  },
  {
   "cell_type": "code",
   "execution_count": null,
   "metadata": {},
   "outputs": [],
   "source": []
  }
 ],
 "metadata": {
  "kernelspec": {
   "display_name": "Python 3",
   "language": "python",
   "name": "python3"
  },
  "language_info": {
   "codemirror_mode": {
    "name": "ipython",
    "version": 3
   },
   "file_extension": ".py",
   "mimetype": "text/x-python",
   "name": "python",
   "nbconvert_exporter": "python",
   "pygments_lexer": "ipython3",
   "version": "3.6.8"
  }
 },
 "nbformat": 4,
 "nbformat_minor": 1
}
