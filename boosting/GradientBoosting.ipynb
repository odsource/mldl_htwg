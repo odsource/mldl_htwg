{
 "cells": [
  {
   "cell_type": "markdown",
   "metadata": {
    "colab_type": "text",
    "id": "7KisiEPS5IcQ"
   },
   "source": [
    "### Gradient Boosting with XG-Boost\n",
    "\n",
    "First contact with gradient boosting. \n",
    "\n",
    "* Docu: https://xgboost.readthedocs.io/en/latest/\n",
    "\n",
    "* Parameters: https://xgboost.readthedocs.io/en/latest/parameter.html\n",
    "\n",
    "* [Early Stopping](https://machinelearningmastery.com/avoid-overfitting-by-early-stopping-with-xgboost-in-python/)"
   ]
  },
  {
   "cell_type": "code",
   "execution_count": 6,
   "metadata": {
    "colab": {},
    "colab_type": "code",
    "id": "N4-kYJxPEozU"
   },
   "outputs": [
    {
     "name": "stderr",
     "output_type": "stream",
     "text": [
      "/usr/lib/python3.6/importlib/_bootstrap.py:219: RuntimeWarning: numpy.ufunc size changed, may indicate binary incompatibility. Expected 192 from C header, got 216 from PyObject\n",
      "  return f(*args, **kwds)\n"
     ]
    }
   ],
   "source": [
    "import numpy as np\n",
    "import pandas as pd\n",
    "from sklearn import datasets\n",
    "import matplotlib.pyplot as plt\n",
    "%matplotlib inline\n",
    "plt.style.use('default')\n",
    "from sklearn.model_selection import train_test_split"
   ]
  },
  {
   "cell_type": "code",
   "execution_count": 7,
   "metadata": {},
   "outputs": [
    {
     "name": "stdout",
     "output_type": "stream",
     "text": [
      "Requirement already satisfied: xgboost in /usr/local/lib/python3.6/dist-packages (0.90)\n",
      "Requirement already satisfied: numpy in /usr/local/lib/python3.6/dist-packages (from xgboost) (1.17.2)\n",
      "Requirement already satisfied: scipy in /usr/local/lib/python3.6/dist-packages (from xgboost) (1.3.1)\n",
      "\u001b[33mWARNING: You are using pip version 19.2.3, however version 19.3.1 is available.\n",
      "You should consider upgrading via the 'pip install --upgrade pip' command.\u001b[0m\n"
     ]
    }
   ],
   "source": [
    "!pip install xgboost"
   ]
  },
  {
   "cell_type": "markdown",
   "metadata": {
    "colab_type": "text",
    "id": "8-6I97Cg-ylu"
   },
   "source": [
    "# Classification\n",
    "\n",
    "Note that classification in XBost is not limited to the binary case."
   ]
  },
  {
   "cell_type": "code",
   "execution_count": 50,
   "metadata": {
    "colab": {},
    "colab_type": "code",
    "id": "7n0tRmHwEvpO"
   },
   "outputs": [],
   "source": [
    "import xgboost as xgb"
   ]
  },
  {
   "cell_type": "code",
   "execution_count": 51,
   "metadata": {
    "colab": {},
    "colab_type": "code",
    "id": "CvaygeAMJTGn"
   },
   "outputs": [],
   "source": [
    "# Iris\n",
    "iris = datasets.load_iris()\n",
    "X = iris.data\n",
    "y = iris.target"
   ]
  },
  {
   "cell_type": "code",
   "execution_count": 52,
   "metadata": {
    "colab": {},
    "colab_type": "code",
    "id": "IoNKe8Rw1b1y"
   },
   "outputs": [],
   "source": [
    "#Digits Dataset\n",
    "# from sklearn.datasets import load_digits\n",
    "# digits = load_digits()\n",
    "# X, y = digits.data, digits.target"
   ]
  },
  {
   "cell_type": "code",
   "execution_count": 53,
   "metadata": {
    "colab": {
     "base_uri": "https://localhost:8080/",
     "height": 34
    },
    "colab_type": "code",
    "id": "xtGgFiov1dkv",
    "outputId": "b3cf0dc7-6e22-4902-ab4c-7577cb67615d"
   },
   "outputs": [
    {
     "data": {
      "text/plain": [
       "((120, 4), (30, 4), (120,), (30,))"
      ]
     },
     "execution_count": 53,
     "metadata": {},
     "output_type": "execute_result"
    }
   ],
   "source": [
    "X_train, X_test, y_train, y_test = train_test_split(X, y, test_size=0.2)\n",
    "X_train.shape, X_test.shape, y_train.shape, y_test.shape"
   ]
  },
  {
   "cell_type": "code",
   "execution_count": 54,
   "metadata": {
    "colab": {},
    "colab_type": "code",
    "id": "fPtQG6I5xa7r"
   },
   "outputs": [],
   "source": [
    "from xgboost import XGBClassifier\n",
    "model = XGBClassifier(\n",
    "    max_depth=5, #Depth of trees\n",
    "    learning_rate =0.1,\n",
    "    n_estimators=1000, #Number of trees\n",
    "    subsample=0.8 \n",
    ")"
   ]
  },
  {
   "cell_type": "code",
   "execution_count": 55,
   "metadata": {
    "colab": {},
    "colab_type": "code",
    "id": "HR2Bja1c9LpN"
   },
   "outputs": [],
   "source": [
    "eval_set = [(X_test, y_test)]\n",
    "model.fit(X_train, y_train, eval_metric=[\"mlogloss\",\"merror\"], eval_set = eval_set, verbose=False)\n",
    "res = model.evals_result()"
   ]
  },
  {
   "cell_type": "code",
   "execution_count": 56,
   "metadata": {
    "colab": {
     "base_uri": "https://localhost:8080/",
     "height": 408
    },
    "colab_type": "code",
    "id": "XjXKvlgJ64-q",
    "outputId": "4bbf8866-2fb0-4e90-feb7-ab2a860d1e0a"
   },
   "outputs": [
    {
     "data": {
      "text/plain": [
       "{'base_score': 0.5,\n",
       " 'booster': 'gbtree',\n",
       " 'colsample_bylevel': 1,\n",
       " 'colsample_bynode': 1,\n",
       " 'colsample_bytree': 1,\n",
       " 'gamma': 0,\n",
       " 'learning_rate': 0.1,\n",
       " 'max_delta_step': 0,\n",
       " 'max_depth': 5,\n",
       " 'min_child_weight': 1,\n",
       " 'missing': None,\n",
       " 'n_estimators': 1000,\n",
       " 'n_jobs': 1,\n",
       " 'nthread': None,\n",
       " 'objective': 'multi:softprob',\n",
       " 'random_state': 0,\n",
       " 'reg_alpha': 0,\n",
       " 'reg_lambda': 1,\n",
       " 'scale_pos_weight': 1,\n",
       " 'seed': None,\n",
       " 'silent': None,\n",
       " 'subsample': 0.8,\n",
       " 'verbosity': 1}"
      ]
     },
     "execution_count": 56,
     "metadata": {},
     "output_type": "execute_result"
    }
   ],
   "source": [
    "XGBClassifier.get_params(model)\n",
    "# Note that the objective': multi:softprob"
   ]
  },
  {
   "cell_type": "markdown",
   "metadata": {
    "colab_type": "text",
    "id": "_NuI_afOBSEM"
   },
   "source": []
  },
  {
   "cell_type": "code",
   "execution_count": 57,
   "metadata": {
    "colab": {
     "base_uri": "https://localhost:8080/",
     "height": 472
    },
    "colab_type": "code",
    "id": "ZD46gyraz7vS",
    "outputId": "037eb2fb-2a1d-410e-f5df-2acf11754b92"
   },
   "outputs": [
    {
     "data": {
      "text/plain": [
       "<matplotlib.legend.Legend at 0x7f405ec77c88>"
      ]
     },
     "execution_count": 57,
     "metadata": {},
     "output_type": "execute_result"
    },
    {
     "data": {
      "image/png": "[encoded data removed]",
      "text/plain": [
       "<Figure size 432x288 with 1 Axes>"
      ]
     },
     "metadata": {
      "needs_background": "light"
     },
     "output_type": "display_data"
    }
   ],
   "source": [
    "plt.plot(res['validation_0']['mlogloss'])\n",
    "plt.plot(res['validation_0']['merror'])\n",
    "plt.xlabel('Number of Trees')\n",
    "plt.ylim(0,0.2)\n",
    "plt.xlim()\n",
    "plt.legend(['Validation Set [Loss]','Validation Set [Error]'])"
   ]
  },
  {
   "cell_type": "code",
   "execution_count": 58,
   "metadata": {
    "colab": {
     "base_uri": "https://localhost:8080/",
     "height": 204
    },
    "colab_type": "code",
    "id": "mo74g2D1-5XN",
    "outputId": "d6c75515-d6f9-4048-9f57-55ec64c7a09c"
   },
   "outputs": [
    {
     "data": {
      "text/plain": [
       "array([[1.  , 0.  , 0.  ],\n",
       "       [1.  , 0.  , 0.  ],\n",
       "       [0.  , 0.  , 1.  ],\n",
       "       [0.  , 0.01, 0.99],\n",
       "       [0.  , 0.02, 0.98],\n",
       "       [0.01, 0.99, 0.  ],\n",
       "       [0.  , 1.  , 0.  ],\n",
       "       [0.  , 0.09, 0.91],\n",
       "       [0.  , 0.01, 0.99],\n",
       "       [0.01, 0.99, 0.  ]], dtype=float32)"
      ]
     },
     "execution_count": 58,
     "metadata": {},
     "output_type": "execute_result"
    }
   ],
   "source": [
    "res = model.predict_proba(X_test)\n",
    "np.round(res[0:10],2)"
   ]
  },
  {
   "cell_type": "code",
   "execution_count": 59,
   "metadata": {
    "colab": {
     "base_uri": "https://localhost:8080/",
     "height": 272
    },
    "colab_type": "code",
    "id": "cL5YzsGbNB3s",
    "outputId": "262d2d84-e99c-4d6b-ee23-a026afe38dba"
   },
   "outputs": [
    {
     "name": "stderr",
     "output_type": "stream",
     "text": [
      "/usr/local/lib/python3.6/dist-packages/sklearn/model_selection/_search.py:814: DeprecationWarning: The default of the `iid` parameter will change from True to False in version 0.22 and will be removed in 0.24. This will change numeric results when test-set sizes are unequal.\n",
      "  DeprecationWarning)\n"
     ]
    },
    {
     "data": {
      "text/plain": [
       "GridSearchCV(cv=3, error_score='raise-deprecating',\n",
       "             estimator=XGBClassifier(base_score=0.5, booster='gbtree',\n",
       "                                     colsample_bylevel=1, colsample_bynode=1,\n",
       "                                     colsample_bytree=1, gamma=0,\n",
       "                                     learning_rate=0.1, max_delta_step=0,\n",
       "                                     max_depth=3, min_child_weight=1,\n",
       "                                     missing=None, n_estimators=100, n_jobs=1,\n",
       "                                     nthread=None, objective='binary:logistic',\n",
       "                                     random_state=0, reg_alpha=0, reg_lambda=1,\n",
       "                                     scale_pos_weight=1, seed=None, silent=None,\n",
       "                                     subsample=1, verbosity=1),\n",
       "             iid='warn', n_jobs=4,\n",
       "             param_grid={'eta': [0.05, 0.3], 'max_depth': [3, 15]},\n",
       "             pre_dispatch='2*n_jobs', refit=True, return_train_score=False,\n",
       "             scoring='neg_log_loss', verbose=0)"
      ]
     },
     "execution_count": 59,
     "metadata": {},
     "output_type": "execute_result"
    }
   ],
   "source": [
    "from sklearn.model_selection import GridSearchCV\n",
    "\n",
    "clf = xgb.XGBClassifier()\n",
    "parameters = {\n",
    "     \"eta\"    : [0.05,  0.30 ] ,\n",
    "     \"max_depth\" : [ 3, 15]\n",
    "     }\n",
    "\n",
    "grid = GridSearchCV(clf,\n",
    "                    parameters, n_jobs=4,\n",
    "                    scoring=\"neg_log_loss\",\n",
    "                    cv=3)\n",
    "\n",
    "grid.fit(X_train, y_train)"
   ]
  },
  {
   "cell_type": "markdown",
   "metadata": {
    "colab_type": "text",
    "id": "cN59R65r_xcK"
   },
   "source": [
    "# Regression (Gaussian)"
   ]
  },
  {
   "cell_type": "code",
   "execution_count": 60,
   "metadata": {
    "colab": {
     "base_uri": "https://localhost:8080/",
     "height": 111
    },
    "colab_type": "code",
    "id": "XsEzEtLy_0kN",
    "outputId": "b4e96ebb-7de0-4829-c16f-61482b83588c"
   },
   "outputs": [
    {
     "data": {
      "text/html": [
       "<div>\n",
       "<style scoped>\n",
       "    .dataframe tbody tr th:only-of-type {\n",
       "        vertical-align: middle;\n",
       "    }\n",
       "\n",
       "    .dataframe tbody tr th {\n",
       "        vertical-align: top;\n",
       "    }\n",
       "\n",
       "    .dataframe thead th {\n",
       "        text-align: right;\n",
       "    }\n",
       "</style>\n",
       "<table border=\"1\" class=\"dataframe\">\n",
       "  <thead>\n",
       "    <tr style=\"text-align: right;\">\n",
       "      <th></th>\n",
       "      <th>0</th>\n",
       "      <th>1</th>\n",
       "      <th>2</th>\n",
       "      <th>3</th>\n",
       "    </tr>\n",
       "  </thead>\n",
       "  <tbody>\n",
       "    <tr>\n",
       "      <td>0</td>\n",
       "      <td>0.0</td>\n",
       "      <td>0.0</td>\n",
       "      <td>3.0</td>\n",
       "      <td>0.0</td>\n",
       "    </tr>\n",
       "    <tr>\n",
       "      <td>1</td>\n",
       "      <td>1.0</td>\n",
       "      <td>0.0</td>\n",
       "      <td>3.0</td>\n",
       "      <td>1.0</td>\n",
       "    </tr>\n",
       "  </tbody>\n",
       "</table>\n",
       "</div>"
      ],
      "text/plain": [
       "     0    1    2    3\n",
       "0  0.0  0.0  3.0  0.0\n",
       "1  1.0  0.0  3.0  1.0"
      ]
     },
     "execution_count": 60,
     "metadata": {},
     "output_type": "execute_result"
    }
   ],
   "source": [
    "import os\n",
    "from urllib.request import urlretrieve\n",
    "if not os.path.isfile('fishing.npz'):\n",
    "    print(\"Downloading\")\n",
    "    urlretrieve('http://www-home.htwg-konstanz.de/~oduerr/data/fishing.npz',filename = 'fishing.npz')\n",
    "d = np.load('fishing.npz')\n",
    "X_train = d['Xt'] #\"livebait\",\"camper\",\"persons\",\"child\"\n",
    "X_test = d['Xte']\n",
    "y_train = d['yt']\n",
    "y_test = d['yte']\n",
    "pd.DataFrame(X_test[0:2])"
   ]
  },
  {
   "cell_type": "code",
   "execution_count": 24,
   "metadata": {
    "colab": {
     "base_uri": "https://localhost:8080/",
     "height": 374
    },
    "colab_type": "code",
    "id": "qlK31OveAa33",
    "outputId": "d9a26ebe-4600-4539-fba7-15cdbc3515e7"
   },
   "outputs": [
    {
     "data": {
      "text/plain": [
       "{'base_score': 0.5,\n",
       " 'booster': 'gbtree',\n",
       " 'colsample_bylevel': 1,\n",
       " 'colsample_bynode': 1,\n",
       " 'colsample_bytree': 1,\n",
       " 'gamma': 0,\n",
       " 'importance_type': 'gain',\n",
       " 'learning_rate': 0.01,\n",
       " 'max_delta_step': 0,\n",
       " 'max_depth': 5,\n",
       " 'min_child_weight': 1,\n",
       " 'missing': None,\n",
       " 'n_estimators': 1000,\n",
       " 'nthread': 1,\n",
       " 'objective': 'reg:linear',\n",
       " 'reg_alpha': 0,\n",
       " 'reg_lambda': 1,\n",
       " 'scale_pos_weight': 1,\n",
       " 'seed': 0,\n",
       " 'subsample': 0.5,\n",
       " 'verbosity': 1}"
      ]
     },
     "execution_count": 24,
     "metadata": {},
     "output_type": "execute_result"
    }
   ],
   "source": [
    "from xgboost import XGBRegressor\n",
    "model = XGBRegressor(\n",
    "    max_depth=5, #Depth of trees\n",
    "    learning_rate =0.01,\n",
    "    n_estimators=1000, #Number of trees\n",
    "    subsample=0.5\n",
    ")\n",
    "model.get_params()\n",
    "model.get_xgb_params()"
   ]
  },
  {
   "cell_type": "code",
   "execution_count": 25,
   "metadata": {
    "colab": {
     "base_uri": "https://localhost:8080/",
     "height": 54
    },
    "colab_type": "code",
    "id": "ukZqBdR8AxW6",
    "outputId": "8f44ff00-8f6a-402b-d530-b5d643313882"
   },
   "outputs": [
    {
     "name": "stdout",
     "output_type": "stream",
     "text": [
      "[20:33:24] WARNING: /workspace/src/objective/regression_obj.cu:152: reg:linear is now deprecated in favor of reg:squarederror.\n"
     ]
    }
   ],
   "source": [
    "eval_set = [(X_test, y_test), (X_train, y_train)]\n",
    "model.fit(X_train, y_train, eval_set = eval_set,verbose=False)\n",
    "res = model.evals_result()"
   ]
  },
  {
   "cell_type": "code",
   "execution_count": 26,
   "metadata": {
    "colab": {
     "base_uri": "https://localhost:8080/",
     "height": 468
    },
    "colab_type": "code",
    "id": "BO-K-0duBHg6",
    "outputId": "3bcdeaee-63c2-4ed1-9cf8-160bce55222a"
   },
   "outputs": [
    {
     "data": {
      "text/plain": [
       "<matplotlib.legend.Legend at 0x7f405edb8518>"
      ]
     },
     "execution_count": 26,
     "metadata": {},
     "output_type": "execute_result"
    },
    {
     "data": {
      "image/png": "[encoded data removed]",
      "text/plain": [
       "<Figure size 432x288 with 1 Axes>"
      ]
     },
     "metadata": {
      "needs_background": "light"
     },
     "output_type": "display_data"
    }
   ],
   "source": [
    "plt.plot(res['validation_0']['rmse'])\n",
    "plt.plot(res['validation_1']['rmse'])\n",
    "plt.xlabel('Number of Trees')\n",
    "plt.xlim()\n",
    "plt.legend(['Validation Set [rmse]', 'Training Set [rmse]'])"
   ]
  },
  {
   "cell_type": "code",
   "execution_count": 27,
   "metadata": {
    "colab": {
     "base_uri": "https://localhost:8080/",
     "height": 34
    },
    "colab_type": "code",
    "id": "xKaRS3fqCNwt",
    "outputId": "5bbfe369-1906-4010-f65d-97364024e59f"
   },
   "outputs": [
    {
     "data": {
      "text/plain": [
       "7.7125907"
      ]
     },
     "execution_count": 27,
     "metadata": {},
     "output_type": "execute_result"
    }
   ],
   "source": [
    "res = model.predict(X_test)\n",
    "sigma_hat_2 = np.mean((res - y_test)**2)\n",
    "np.sqrt(sigma_hat_2)"
   ]
  },
  {
   "cell_type": "code",
   "execution_count": 28,
   "metadata": {
    "colab": {
     "base_uri": "https://localhost:8080/",
     "height": 34
    },
    "colab_type": "code",
    "id": "GOecg8siCka5",
    "outputId": "ecdac887-231c-44c2-fde7-e63c7cdb4b10"
   },
   "outputs": [
    {
     "data": {
      "text/plain": [
       "3.461792708338911"
      ]
     },
     "execution_count": 28,
     "metadata": {},
     "output_type": "execute_result"
    }
   ],
   "source": [
    "0.5*np.log(2 * np.pi * sigma_hat_2) + 0.5*np.mean((y_test - res.flatten())**2)/sigma_hat_2"
   ]
  },
  {
   "cell_type": "markdown",
   "metadata": {},
   "source": [
    "In the linear regression example we had NLL_lr = 3.5693"
   ]
  },
  {
   "cell_type": "code",
   "execution_count": 33,
   "metadata": {
    "colab": {
     "base_uri": "https://localhost:8080/",
     "height": 472
    },
    "colab_type": "code",
    "id": "Ke_QHwEQF7Pm",
    "outputId": "45c0ac4f-cea3-4c5f-d632-866bc39845ec"
   },
   "outputs": [
    {
     "data": {
      "image/png": "[encoded data removed]",
      "text/plain": [
       "<Figure size 640x480 with 1 Axes>"
      ]
     },
     "metadata": {},
     "output_type": "display_data"
    }
   ],
   "source": [
    "ypred=res\n",
    "plt.scatter(ypred, y_test,alpha=0.3)\n",
    "sort_idx=np.argsort(ypred,axis=0)\n",
    "plt.plot(ypred[sort_idx].flatten(), ypred[sort_idx].flatten()+1.96*np.sqrt(sigma_hat_2),linestyle='dashed',c=\"black\")\n",
    "plt.plot(ypred[sort_idx].flatten(), ypred[sort_idx].flatten()-1.96*np.sqrt(sigma_hat_2),linestyle='dashed',c=\"black\")\n",
    "plt.plot(ypred, ypred, c=\"black\")\n",
    "plt.title('Comparison on the testset')\n",
    "plt.xlabel('predicted average of caught fish')\n",
    "plt.ylabel('observed number of caught fish')\n",
    "# plt.xlim(-5,15)\n",
    "# plt.ylim(-5,15)\n",
    "plt.show()"
   ]
  },
  {
   "cell_type": "markdown",
   "metadata": {
    "colab_type": "text",
    "id": "JQe_tDt2Hcaa"
   },
   "source": [
    "# Regression (Poisson)"
   ]
  },
  {
   "cell_type": "code",
   "execution_count": 36,
   "metadata": {
    "colab": {
     "base_uri": "https://localhost:8080/",
     "height": 374
    },
    "colab_type": "code",
    "id": "_b97d-hTHkVX",
    "outputId": "43837beb-242c-4536-f9b0-6281f3ff7ffd"
   },
   "outputs": [
    {
     "data": {
      "text/plain": [
       "{'base_score': 0.5,\n",
       " 'booster': 'gbtree',\n",
       " 'colsample_bylevel': 1,\n",
       " 'colsample_bynode': 1,\n",
       " 'colsample_bytree': 1,\n",
       " 'gamma': 0,\n",
       " 'importance_type': 'gain',\n",
       " 'learning_rate': 0.01,\n",
       " 'max_delta_step': 0,\n",
       " 'max_depth': 3,\n",
       " 'min_child_weight': 1,\n",
       " 'missing': None,\n",
       " 'n_estimators': 500,\n",
       " 'nthread': 1,\n",
       " 'objective': 'count:poisson',\n",
       " 'reg_alpha': 0,\n",
       " 'reg_lambda': 1,\n",
       " 'scale_pos_weight': 1,\n",
       " 'seed': 0,\n",
       " 'subsample': 0.5,\n",
       " 'verbosity': 1}"
      ]
     },
     "execution_count": 36,
     "metadata": {},
     "output_type": "execute_result"
    }
   ],
   "source": [
    "from xgboost import XGBRegressor\n",
    "model = XGBRegressor(\n",
    "    max_depth=3, #Depth of trees\n",
    "    #booster='gblinear', #Uncomment for trees\n",
    "    learning_rate =0.01,\n",
    "    n_estimators=500, #Number of trees\n",
    "    subsample=0.5 ,\n",
    "    objective=\"count:poisson\"\n",
    ")\n",
    "model.get_params()\n",
    "model.get_xgb_params()"
   ]
  },
  {
   "cell_type": "code",
   "execution_count": 37,
   "metadata": {
    "colab": {},
    "colab_type": "code",
    "id": "XsfAXayOV1Uw"
   },
   "outputs": [],
   "source": [
    "eval_set = [(X_test, y_test), (X_train, y_train)]\n",
    "model.fit(X_train, y_train, eval_set = eval_set,verbose=False)\n",
    "res = model.evals_result()"
   ]
  },
  {
   "cell_type": "code",
   "execution_count": 38,
   "metadata": {
    "colab": {
     "base_uri": "https://localhost:8080/",
     "height": 466
    },
    "colab_type": "code",
    "id": "WuQ1iAu8WL0S",
    "outputId": "85593826-7e32-481a-dbd1-99df9baf5eb3"
   },
   "outputs": [
    {
     "data": {
      "text/plain": [
       "3.164677"
      ]
     },
     "execution_count": 38,
     "metadata": {},
     "output_type": "execute_result"
    },
    {
     "data": {
      "image/png": "[encoded data removed]",
      "text/plain": [
       "<Figure size 640x480 with 1 Axes>"
      ]
     },
     "metadata": {},
     "output_type": "display_data"
    }
   ],
   "source": [
    "plt.plot(res['validation_0']['poisson-nloglik'])\n",
    "plt.plot(res['validation_1']['poisson-nloglik'])\n",
    "plt.xlabel('Number of Trees')\n",
    "plt.xlim()\n",
    "plt.legend(['Validation Set [NLL]', 'Test Set [NLL]'])\n",
    "d = np.array(res['validation_0']['poisson-nloglik'])\n",
    "#plt.ylim(1.3,2)\n",
    "d.min()"
   ]
  },
  {
   "cell_type": "code",
   "execution_count": 39,
   "metadata": {
    "colab": {
     "base_uri": "https://localhost:8080/",
     "height": 34
    },
    "colab_type": "code",
    "id": "d2k5rEzXWsS9",
    "outputId": "738febda-e64a-486a-a7b5-4e64ffe88a4c"
   },
   "outputs": [
    {
     "data": {
      "text/plain": [
       "7.48311"
      ]
     },
     "execution_count": 39,
     "metadata": {},
     "output_type": "execute_result"
    }
   ],
   "source": [
    "res = model.predict(X_test)\n",
    "sigma_hat_2 = np.mean((res - y_test)**2)\n",
    "np.sqrt(sigma_hat_2)"
   ]
  },
  {
   "cell_type": "code",
   "execution_count": 40,
   "metadata": {
    "colab": {
     "base_uri": "https://localhost:8080/",
     "height": 34
    },
    "colab_type": "code",
    "id": "mz0TZt-gYd3f",
    "outputId": "1700c2ee-5158-47a5-a7f1-de3d2d0069e1"
   },
   "outputs": [
    {
     "data": {
      "text/plain": [
       "3.3422153"
      ]
     },
     "execution_count": 40,
     "metadata": {},
     "output_type": "execute_result"
    }
   ],
   "source": [
    "mu = res\n",
    "ret = np.zeros_like(mu)\n",
    "for i in range(ret.shape[0]):\n",
    "  ret[i] = mu[i] - y_test[i]*np.log(mu[i]) + np.log(1.0*np.math.factorial(y_test[i]))\n",
    "np.mean(ret)"
   ]
  },
  {
   "cell_type": "code",
   "execution_count": 41,
   "metadata": {
    "colab": {
     "base_uri": "https://localhost:8080/",
     "height": 472
    },
    "colab_type": "code",
    "id": "SAbYek99Weh_",
    "outputId": "48f710d3-84ef-4047-da72-7811a04559bf"
   },
   "outputs": [
    {
     "data": {
      "image/png": "[encoded data removed]",
      "text/plain": [
       "<Figure size 640x480 with 1 Axes>"
      ]
     },
     "metadata": {},
     "output_type": "display_data"
    }
   ],
   "source": [
    "mupred=res\n",
    "plt.scatter(mupred, y_test,alpha=0.3)\n",
    "sort_idx=np.argsort(mupred,axis=0)\n",
    "from scipy.stats import poisson\n",
    "lower=poisson.ppf(0.025, mupred)\n",
    "upper=poisson.ppf(0.975, mupred)\n",
    "plt.plot(mupred[sort_idx].flatten(), lower[sort_idx],linestyle='dashed',c=\"black\")\n",
    "plt.plot(mupred[sort_idx].flatten(), upper[sort_idx],linestyle='dashed',c=\"black\")\n",
    "plt.plot(mupred, mupred, c=\"black\")\n",
    "plt.title('Comparison on the testset')\n",
    "plt.xlabel('predicted average of caught fish')\n",
    "plt.ylabel('observed number of caught fish')\n",
    "plt.xlim(0,15)\n",
    "plt.ylim(-5,15)\n",
    "plt.show()"
   ]
  },
  {
   "cell_type": "markdown",
   "metadata": {},
   "source": [
    "# Cat-Boost"
   ]
  },
  {
   "cell_type": "code",
   "execution_count": 1,
   "metadata": {},
   "outputs": [
    {
     "name": "stdout",
     "output_type": "stream",
     "text": [
      "Requirement already satisfied: catboost in /usr/local/lib/python3.6/dist-packages (0.18.1)\n",
      "Requirement already satisfied: pandas>=0.24.0 in /usr/local/lib/python3.6/dist-packages (from catboost) (0.25.1)\n",
      "Requirement already satisfied: matplotlib in /usr/local/lib/python3.6/dist-packages (from catboost) (3.1.1)\n",
      "Requirement already satisfied: numpy>=1.16.0 in /usr/local/lib/python3.6/dist-packages (from catboost) (1.17.2)\n",
      "Requirement already satisfied: graphviz in /usr/local/lib/python3.6/dist-packages (from catboost) (0.13.2)\n",
      "Requirement already satisfied: scipy in /usr/local/lib/python3.6/dist-packages (from catboost) (1.3.1)\n",
      "Requirement already satisfied: six in /usr/lib/python3/dist-packages (from catboost) (1.11.0)\n",
      "Requirement already satisfied: plotly in /usr/local/lib/python3.6/dist-packages (from catboost) (4.3.0)\n",
      "Requirement already satisfied: python-dateutil>=2.6.1 in /usr/local/lib/python3.6/dist-packages (from pandas>=0.24.0->catboost) (2.8.0)\n",
      "Requirement already satisfied: pytz>=2017.2 in /usr/local/lib/python3.6/dist-packages (from pandas>=0.24.0->catboost) (2019.3)\n",
      "Requirement already satisfied: cycler>=0.10 in /usr/local/lib/python3.6/dist-packages (from matplotlib->catboost) (0.10.0)\n",
      "Requirement already satisfied: kiwisolver>=1.0.1 in /usr/local/lib/python3.6/dist-packages (from matplotlib->catboost) (1.1.0)\n",
      "Requirement already satisfied: pyparsing!=2.0.4,!=2.1.2,!=2.1.6,>=2.0.1 in /usr/local/lib/python3.6/dist-packages (from matplotlib->catboost) (2.4.2)\n",
      "Requirement already satisfied: retrying>=1.3.3 in /usr/local/lib/python3.6/dist-packages (from plotly->catboost) (1.3.3)\n",
      "Requirement already satisfied: setuptools in /usr/local/lib/python3.6/dist-packages (from kiwisolver>=1.0.1->matplotlib->catboost) (41.2.0)\n",
      "\u001b[33mWARNING: You are using pip version 19.2.3, however version 19.3.1 is available.\n",
      "You should consider upgrading via the 'pip install --upgrade pip' command.\u001b[0m\n",
      "Note: you may need to restart the kernel to use updated packages.\n"
     ]
    }
   ],
   "source": [
    "pip install catboost"
   ]
  },
  {
   "cell_type": "code",
   "execution_count": 37,
   "metadata": {},
   "outputs": [
    {
     "name": "stdout",
     "output_type": "stream",
     "text": [
      "{'loss_function': 'RMSE'}\n"
     ]
    },
    {
     "data": {
      "text/plain": [
       "(7.734094177916611, 3.464576903444757)"
      ]
     },
     "execution_count": 37,
     "metadata": {},
     "output_type": "execute_result"
    }
   ],
   "source": [
    "from catboost import CatBoostRegressor\n",
    "model = CatBoostRegressor()\n",
    "print(model.get_params())\n",
    "model.fit(X_train, y_train, eval_set = eval_set,verbose=False)\n",
    "res = model.predict(X_test)\n",
    "sigma_hat_2 = np.mean((res - y_test)**2)\n",
    "np.sqrt(sigma_hat_2),0.5*np.log(2 * np.pi * sigma_hat_2) + 0.5*np.mean((y_test - res.flatten())**2)/sigma_hat_2"
   ]
  },
  {
   "cell_type": "markdown",
   "metadata": {},
   "source": [
    "Catboost supports many loss functions. See https://catboost.ai/docs/concepts/loss-functions-regression.html"
   ]
  },
  {
   "cell_type": "code",
   "execution_count": 46,
   "metadata": {
    "scrolled": true
   },
   "outputs": [
    {
     "name": "stdout",
     "output_type": "stream",
     "text": [
      "{'loss_function': 'Poisson'}\n",
      "MSE  10.143981806814812\n"
     ]
    },
    {
     "data": {
      "text/plain": [
       "3.721045566804973"
      ]
     },
     "execution_count": 46,
     "metadata": {},
     "output_type": "execute_result"
    }
   ],
   "source": [
    "from catboost import CatBoostRegressor\n",
    "model = CatBoostRegressor(loss_function='Poisson')\n",
    "print(model.get_params())\n",
    "model.fit(X_train, y_train, eval_set = eval_set,verbose=False)\n",
    "res = model.predict(X_test)\n",
    "sigma_hat_2 = np.mean((res - y_test)**2)\n",
    "print('MSE ', np.sqrt(sigma_hat_2))\n",
    "\n",
    "mu = np.exp(res)\n",
    "ret = np.zeros_like(mu)\n",
    "for i in range(ret.shape[0]):\n",
    "  ret[i] = mu[i] - y_test[i]*np.log(mu[i]) + np.log(1.0*np.math.factorial(y_test[i]))\n",
    "np.mean(ret)"
   ]
  },
  {
   "cell_type": "markdown",
   "metadata": {},
   "source": [
    "## Dear Data Set"
   ]
  },
  {
   "cell_type": "code",
   "execution_count": 62,
   "metadata": {},
   "outputs": [],
   "source": [
    "try:\n",
    "    import feather\n",
    "except:\n",
    "    !pip install feather-format\n",
    "    import feather"
   ]
  },
  {
   "cell_type": "code",
   "execution_count": 63,
   "metadata": {},
   "outputs": [],
   "source": [
    "def get_if_not_there(filename = 'deer_train.feather'):\n",
    "    if not os.path.isfile(filename):\n",
    "         urlretrieve('https://raw.githubusercontent.com/tensorchiefs/dl_book/master/data/{}'.format(filename),\n",
    "                    filename = filename)\n",
    "\n",
    "get_if_not_there('deer_train.feather')\n",
    "get_if_not_there('deer_test.feather')"
   ]
  },
  {
   "cell_type": "code",
   "execution_count": 111,
   "metadata": {},
   "outputs": [
    {
     "data": {
      "text/html": [
       "<div>\n",
       "<style scoped>\n",
       "    .dataframe tbody tr th:only-of-type {\n",
       "        vertical-align: middle;\n",
       "    }\n",
       "\n",
       "    .dataframe tbody tr th {\n",
       "        vertical-align: top;\n",
       "    }\n",
       "\n",
       "    .dataframe thead th {\n",
       "        text-align: right;\n",
       "    }\n",
       "</style>\n",
       "<table border=\"1\" class=\"dataframe\">\n",
       "  <thead>\n",
       "    <tr style=\"text-align: right;\">\n",
       "      <th></th>\n",
       "      <th>wild</th>\n",
       "      <th>year</th>\n",
       "      <th>time</th>\n",
       "      <th>daytime</th>\n",
       "      <th>weekday</th>\n",
       "    </tr>\n",
       "  </thead>\n",
       "  <tbody>\n",
       "    <tr>\n",
       "      <td>0</td>\n",
       "      <td>0</td>\n",
       "      <td>2002.0</td>\n",
       "      <td>0.000000</td>\n",
       "      <td>night.am</td>\n",
       "      <td>Sunday</td>\n",
       "    </tr>\n",
       "    <tr>\n",
       "      <td>1</td>\n",
       "      <td>0</td>\n",
       "      <td>2002.0</td>\n",
       "      <td>0.020833</td>\n",
       "      <td>night.am</td>\n",
       "      <td>Sunday</td>\n",
       "    </tr>\n",
       "    <tr>\n",
       "      <td>2</td>\n",
       "      <td>0</td>\n",
       "      <td>2002.0</td>\n",
       "      <td>0.041667</td>\n",
       "      <td>night.am</td>\n",
       "      <td>Sunday</td>\n",
       "    </tr>\n",
       "    <tr>\n",
       "      <td>3</td>\n",
       "      <td>1</td>\n",
       "      <td>2002.0</td>\n",
       "      <td>0.062500</td>\n",
       "      <td>night.am</td>\n",
       "      <td>Sunday</td>\n",
       "    </tr>\n",
       "    <tr>\n",
       "      <td>4</td>\n",
       "      <td>3</td>\n",
       "      <td>2002.0</td>\n",
       "      <td>0.083333</td>\n",
       "      <td>night.am</td>\n",
       "      <td>Sunday</td>\n",
       "    </tr>\n",
       "    <tr>\n",
       "      <td>...</td>\n",
       "      <td>...</td>\n",
       "      <td>...</td>\n",
       "      <td>...</td>\n",
       "      <td>...</td>\n",
       "      <td>...</td>\n",
       "    </tr>\n",
       "    <tr>\n",
       "      <td>140251</td>\n",
       "      <td>2</td>\n",
       "      <td>2009.0</td>\n",
       "      <td>2921.895833</td>\n",
       "      <td>night.pm</td>\n",
       "      <td>Sunday</td>\n",
       "    </tr>\n",
       "    <tr>\n",
       "      <td>140252</td>\n",
       "      <td>1</td>\n",
       "      <td>2009.0</td>\n",
       "      <td>2921.916667</td>\n",
       "      <td>night.pm</td>\n",
       "      <td>Sunday</td>\n",
       "    </tr>\n",
       "    <tr>\n",
       "      <td>140253</td>\n",
       "      <td>0</td>\n",
       "      <td>2009.0</td>\n",
       "      <td>2921.937500</td>\n",
       "      <td>night.pm</td>\n",
       "      <td>Sunday</td>\n",
       "    </tr>\n",
       "    <tr>\n",
       "      <td>140254</td>\n",
       "      <td>1</td>\n",
       "      <td>2009.0</td>\n",
       "      <td>2921.958333</td>\n",
       "      <td>night.pm</td>\n",
       "      <td>Sunday</td>\n",
       "    </tr>\n",
       "    <tr>\n",
       "      <td>140255</td>\n",
       "      <td>1</td>\n",
       "      <td>2009.0</td>\n",
       "      <td>2921.979167</td>\n",
       "      <td>night.pm</td>\n",
       "      <td>Sunday</td>\n",
       "    </tr>\n",
       "  </tbody>\n",
       "</table>\n",
       "<p>140256 rows × 5 columns</p>\n",
       "</div>"
      ],
      "text/plain": [
       "        wild    year         time   daytime weekday\n",
       "0          0  2002.0     0.000000  night.am  Sunday\n",
       "1          0  2002.0     0.020833  night.am  Sunday\n",
       "2          0  2002.0     0.041667  night.am  Sunday\n",
       "3          1  2002.0     0.062500  night.am  Sunday\n",
       "4          3  2002.0     0.083333  night.am  Sunday\n",
       "...      ...     ...          ...       ...     ...\n",
       "140251     2  2009.0  2921.895833  night.pm  Sunday\n",
       "140252     1  2009.0  2921.916667  night.pm  Sunday\n",
       "140253     0  2009.0  2921.937500  night.pm  Sunday\n",
       "140254     1  2009.0  2921.958333  night.pm  Sunday\n",
       "140255     1  2009.0  2921.979167  night.pm  Sunday\n",
       "\n",
       "[140256 rows x 5 columns]"
      ]
     },
     "execution_count": 111,
     "metadata": {},
     "output_type": "execute_result"
    }
   ],
   "source": [
    "df_train = feather.read_dataframe('deer_train.feather')\n",
    "df_test = feather.read_dataframe('deer_test.feather')\n",
    "df_train"
   ]
  },
  {
   "cell_type": "code",
   "execution_count": 112,
   "metadata": {},
   "outputs": [
    {
     "data": {
      "text/html": [
       "<div>\n",
       "<style scoped>\n",
       "    .dataframe tbody tr th:only-of-type {\n",
       "        vertical-align: middle;\n",
       "    }\n",
       "\n",
       "    .dataframe tbody tr th {\n",
       "        vertical-align: top;\n",
       "    }\n",
       "\n",
       "    .dataframe thead th {\n",
       "        text-align: right;\n",
       "    }\n",
       "</style>\n",
       "<table border=\"1\" class=\"dataframe\">\n",
       "  <thead>\n",
       "    <tr style=\"text-align: right;\">\n",
       "      <th></th>\n",
       "      <th>wild</th>\n",
       "      <th>year</th>\n",
       "      <th>time</th>\n",
       "      <th>daytime</th>\n",
       "      <th>weekday</th>\n",
       "      <th>time_cos</th>\n",
       "    </tr>\n",
       "  </thead>\n",
       "  <tbody>\n",
       "    <tr>\n",
       "      <td>0</td>\n",
       "      <td>0</td>\n",
       "      <td>2010.0</td>\n",
       "      <td>2922.000000</td>\n",
       "      <td>night.am</td>\n",
       "      <td>Sunday</td>\n",
       "      <td>0.999407</td>\n",
       "    </tr>\n",
       "    <tr>\n",
       "      <td>1</td>\n",
       "      <td>2</td>\n",
       "      <td>2010.0</td>\n",
       "      <td>2922.020833</td>\n",
       "      <td>night.am</td>\n",
       "      <td>Sunday</td>\n",
       "      <td>0.999395</td>\n",
       "    </tr>\n",
       "    <tr>\n",
       "      <td>2</td>\n",
       "      <td>2</td>\n",
       "      <td>2010.0</td>\n",
       "      <td>2922.041667</td>\n",
       "      <td>night.am</td>\n",
       "      <td>Sunday</td>\n",
       "      <td>0.999382</td>\n",
       "    </tr>\n",
       "    <tr>\n",
       "      <td>3</td>\n",
       "      <td>2</td>\n",
       "      <td>2010.0</td>\n",
       "      <td>2922.062500</td>\n",
       "      <td>night.am</td>\n",
       "      <td>Sunday</td>\n",
       "      <td>0.999370</td>\n",
       "    </tr>\n",
       "  </tbody>\n",
       "</table>\n",
       "</div>"
      ],
      "text/plain": [
       "   wild    year         time   daytime weekday  time_cos\n",
       "0     0  2010.0  2922.000000  night.am  Sunday  0.999407\n",
       "1     2  2010.0  2922.020833  night.am  Sunday  0.999395\n",
       "2     2  2010.0  2922.041667  night.am  Sunday  0.999382\n",
       "3     2  2010.0  2922.062500  night.am  Sunday  0.999370"
      ]
     },
     "execution_count": 112,
     "metadata": {},
     "output_type": "execute_result"
    }
   ],
   "source": [
    "def encode(data, col, max_val):\n",
    "    data[col + '_sin'] = np.sin(2 * np.pi * data[col]/max_val)\n",
    "    data[col + '_cos'] = np.cos(2 * np.pi * data[col]/max_val)\n",
    "    return data\n",
    "\n",
    "#Without encoding\n",
    "#With sin/cos\n",
    "#{'loss_function': 'RMSE'}\n",
    "#MSE  3.0217710422162205 NLL  2.524781630523\n",
    "#{'loss_function': 'Poisson'}\n",
    "#MSE  3.7650230 NLL 2.2941\n",
    "\n",
    "\n",
    "#With sin/cos\n",
    "#{'loss_function': 'RMSE'}\n",
    "#MSE  2.689636782084301 NLL  2.4083446924542193\n",
    "#{'loss_function': 'Poisson'}\n",
    "#MSE  3.46892061202613 NLL 1.9104\n",
    "\n",
    "#With sin only\n",
    "#{'loss_function': 'RMSE'}\n",
    "#MSE  2.8503108823273036 NLL  2.466366603054628\n",
    "#{'loss_function': 'Poisson'}\n",
    "#MSE  3.6090760637532986 NLL 2.076\n",
    "\n",
    "dt_train = encode(df_train, 'time', 365)\n",
    "df_test = encode(df_test, 'time', 365)\n",
    "df_test[0:4]"
   ]
  },
  {
   "cell_type": "code",
   "execution_count": 113,
   "metadata": {},
   "outputs": [
    {
     "data": {
      "text/plain": [
       "((140256, 17), (35040, 17))"
      ]
     },
     "execution_count": 113,
     "metadata": {},
     "output_type": "execute_result"
    }
   ],
   "source": [
    "y_train = df_train.iloc[:,0].to_numpy(dtype='float32')\n",
    "y_test = df_test.iloc[:,0].to_numpy(dtype='float32')\n",
    "X_train = pd.get_dummies(df_train.iloc[:,2:]) #We wont use the year\n",
    "X_test = pd.get_dummies(df_test.iloc[:,2:])\n",
    "X_train.iloc[:,0] = X_train.iloc[:,0]/2922.02    #We divide by the maximal number to be in the range 0 to 1\n",
    "X_test.iloc[:,0] = X_test.iloc[:,0]/2922.02 \n",
    "del df_train, df_test\n",
    "X_train = X_train.to_numpy(dtype='float32')\n",
    "X_test = X_test.to_numpy(dtype='float32')\n",
    "\n",
    "X_train.shape,X_test.shape"
   ]
  },
  {
   "cell_type": "code",
   "execution_count": 116,
   "metadata": {
    "scrolled": false
   },
   "outputs": [
    {
     "name": "stdout",
     "output_type": "stream",
     "text": [
      "{'loss_function': 'RMSE'}\n",
      "MSE  2.766092491495529 NLL  2.436374204606735\n"
     ]
    }
   ],
   "source": [
    "from catboost import CatBoostRegressor\n",
    "model = CatBoostRegressor()\n",
    "print(model.get_params())\n",
    "eval_set = [(X_test, y_test), (X_train, y_train)]\n",
    "model.fit(X_train, y_train, eval_set = eval_set,verbose=False)\n",
    "res = model.predict(X_test)\n",
    "sigma_hat_2 = np.mean((res - y_test)**2)\n",
    "print('MSE ',np.sqrt(sigma_hat_2),\n",
    "      'NLL ',0.5*np.log(2 * np.pi * sigma_hat_2) + 0.5*np.mean((y_test - res.flatten())**2)/sigma_hat_2)\n",
    "\n"
   ]
  },
  {
   "cell_type": "code",
   "execution_count": 118,
   "metadata": {},
   "outputs": [
    {
     "data": {
      "text/plain": [
       "2.463126639054369"
      ]
     },
     "execution_count": 118,
     "metadata": {},
     "output_type": "execute_result"
    }
   ],
   "source": [
    "res_train = model.predict(X_train)\n",
    "sig2 = np.mean((res_train - y_train)**2)\n",
    "0.5*np.log(2 * np.pi * sig2) + 0.5*np.mean((y_test - res.flatten())**2)/sig2"
   ]
  },
  {
   "cell_type": "code",
   "execution_count": 115,
   "metadata": {},
   "outputs": [
    {
     "name": "stdout",
     "output_type": "stream",
     "text": [
      "{'loss_function': 'Poisson'}\n",
      "MSE  3.430679775391371\n"
     ]
    },
    {
     "data": {
      "text/plain": [
       "1.9783198745349264"
      ]
     },
     "execution_count": 115,
     "metadata": {},
     "output_type": "execute_result"
    }
   ],
   "source": [
    "from catboost import CatBoostRegressor\n",
    "model = CatBoostRegressor(loss_function='Poisson')\n",
    "print(model.get_params())\n",
    "model.fit(X_train, y_train, eval_set = eval_set,verbose=False)\n",
    "res = model.predict(X_test)\n",
    "sigma_hat_2 = np.mean((res - y_test)**2)\n",
    "print('MSE ', np.sqrt(sigma_hat_2))\n",
    "\n",
    "mu = np.exp(res)\n",
    "ret = np.zeros_like(mu)\n",
    "for i in range(ret.shape[0]):\n",
    "  ret[i] = mu[i] - y_test[i]*np.log(mu[i]) + np.log(1.0*np.math.factorial(y_test[i]))\n",
    "np.mean(ret)"
   ]
  },
  {
   "cell_type": "code",
   "execution_count": null,
   "metadata": {},
   "outputs": [],
   "source": []
  },
  {
   "cell_type": "code",
   "execution_count": null,
   "metadata": {},
   "outputs": [],
   "source": []
  },
  {
   "cell_type": "code",
   "execution_count": null,
   "metadata": {},
   "outputs": [],
   "source": []
  },
  {
   "cell_type": "code",
   "execution_count": null,
   "metadata": {},
   "outputs": [],
   "source": []
  },
  {
   "cell_type": "code",
   "execution_count": null,
   "metadata": {},
   "outputs": [],
   "source": []
  },
  {
   "cell_type": "code",
   "execution_count": null,
   "metadata": {},
   "outputs": [],
   "source": []
  },
  {
   "cell_type": "code",
   "execution_count": null,
   "metadata": {},
   "outputs": [],
   "source": []
  },
  {
   "cell_type": "code",
   "execution_count": null,
   "metadata": {},
   "outputs": [],
   "source": []
  },
  {
   "cell_type": "code",
   "execution_count": null,
   "metadata": {},
   "outputs": [],
   "source": []
  },
  {
   "cell_type": "code",
   "execution_count": null,
   "metadata": {},
   "outputs": [],
   "source": []
  },
  {
   "cell_type": "code",
   "execution_count": null,
   "metadata": {},
   "outputs": [],
   "source": []
  }
 ],
 "metadata": {
  "accelerator": "GPU",
  "colab": {
   "collapsed_sections": [],
   "name": "GradientBoosting.ipynb",
   "provenance": [],
   "toc_visible": true
  },
  "kernelspec": {
   "display_name": "Python 3",
   "language": "python",
   "name": "python3"
  },
  "language_info": {
   "codemirror_mode": {
    "name": "ipython",
    "version": 3
   },
   "file_extension": ".py",
   "mimetype": "text/x-python",
   "name": "python",
   "nbconvert_exporter": "python",
   "pygments_lexer": "ipython3",
   "version": "3.6.8"
  }
 },
 "nbformat": 4,
 "nbformat_minor": 1
}
